{
 "cells": [
  {
   "cell_type": "markdown",
   "metadata": {},
   "source": [
    "# Práctica 1\n",
    "\n",
    "Gonzalo Monedero - Marcos Molina - Nicolás Salgado - Iñigo Vázquez"
   ]
  },
  {
   "cell_type": "markdown",
   "metadata": {},
   "source": [
    "## Preparación del entorno"
   ]
  },
  {
   "cell_type": "code",
   "execution_count": 385,
   "metadata": {},
   "outputs": [],
   "source": [
    "import matplotlib.pyplot as plt\n",
    "import numpy as np\n",
    "import pandas as pd\n",
    "import keras as ker\n",
    "import tensorflow as tf\n",
    "import random\n",
    "import time\n",
    "\n",
    "from sklearn.model_selection import train_test_split \n",
    "from sklearn.preprocessing import LabelEncoder\n",
    "\n",
    "# Quitar warnings feos\n",
    "tf.compat.v1.logging.set_verbosity(tf.compat.v1.logging.ERROR)"
   ]
  },
  {
   "cell_type": "markdown",
   "metadata": {},
   "source": [
    "## Preprocesamiento de datos"
   ]
  },
  {
   "cell_type": "markdown",
   "metadata": {},
   "source": [
    "### Creación del dataset\n"
   ]
  },
  {
   "cell_type": "code",
   "execution_count": 386,
   "metadata": {},
   "outputs": [],
   "source": [
    "iris_RAW = pd.read_csv('../Data/iris.data', sep=',')\n",
    "iris_OG = iris_RAW.copy()\n",
    "salidas = iris_RAW.pop(\"class\")\n"
   ]
  },
  {
   "cell_type": "markdown",
   "metadata": {},
   "source": [
    "## Creación entradas y salidas"
   ]
  },
  {
   "cell_type": "code",
   "execution_count": 387,
   "metadata": {},
   "outputs": [],
   "source": [
    "entradas = iris_RAW.to_numpy()\n",
    "\n",
    "# Categorizamos salidas\n",
    "label_encoder = LabelEncoder()\n",
    "salidas = label_encoder.fit_transform(salidas)\n"
   ]
  },
  {
   "cell_type": "markdown",
   "metadata": {},
   "source": [
    "# Funciones algoritmo genético"
   ]
  },
  {
   "cell_type": "markdown",
   "metadata": {},
   "source": [
    "### Variables a definir"
   ]
  },
  {
   "cell_type": "code",
   "execution_count": 388,
   "metadata": {},
   "outputs": [],
   "source": [
    "\"\"\"\n",
    "ngenes: nneuronas de cada individuo. Sacado a traves del L4P1-EstudioRed.ipynb\n",
    "NPOB: Número de individuos de la población \n",
    "NGEN: Número de generaciones (ciclo completo sobre todos los individuos) \n",
    "Pm: Probabilidad de mutación: Probabilidad de que un gen dado mute \n",
    "NRES: Cada cuántas generaciones se imprime un resumen de la evolución del proceso \n",
    "NSAMPLE: Cada qué número de generaciones se saca un muestreo de la población \n",
    "\"\"\"\n",
    "\n",
    "ngenes = 4 # NO TOCAR\n",
    "npob = 15 # NO TOCAR\n",
    "ngeneraciones = 10 # TOCAR\n",
    "pm = 0.1 # TOCAR\n",
    "nres = 2 # TOCAR\n",
    "nsample = 1 # TOCAR"
   ]
  },
  {
   "cell_type": "markdown",
   "metadata": {},
   "source": [
    "### Crear inidividuo\n",
    "\n",
    "Como bien se dice en el enunciado, un individuo es un MLP sin entrenar, con tantos genes como hemos calculado. En nuestro caso son 7 genes, y el tamaño de entrada son 4. De esta manera creamos un MLP básico."
   ]
  },
  {
   "cell_type": "code",
   "execution_count": 389,
   "metadata": {},
   "outputs": [],
   "source": [
    "def crearMLP(ngenesMLP, tam_entrada,tipo,pesos):\n",
    "\n",
    "    MLP = ker.Sequential() # Creamos el modelo vacío\n",
    "\n",
    "    # Añadimos la primera capa (tecnicamente dos, la de entrada (con la variable input_dim) y la oculta)\n",
    "    MLP.add(ker.layers.Dense(ngenesMLP, input_dim = tam_entrada, activation='relu'))\n",
    "\n",
    "    # Añadimos la capa de salida\n",
    "    MLP.add(ker.layers.Dense(3,activation='sigmoid')) \n",
    "\n",
    "    # Por último tenemos que configurar el modelo antes de entrenarlo con lo dicho en el enunciado\n",
    "    # Optimizador: Adam\n",
    "    # Función error: Mean Squared Error\n",
    "    # Metricas = Binary accuracy porque nos da el número de precisión de la red\n",
    "    MLP.compile(optimizer='adam',loss='mean_squared_error',metrics=[\"accuracy\"])\n",
    "\n",
    "    if(tipo == 1): # Le metemos pesos ya predeterminados\n",
    "        MLP.set_weights(pesos)\n",
    "\n",
    "    return MLP"
   ]
  },
  {
   "cell_type": "markdown",
   "metadata": {},
   "source": [
    "### Crear población\n",
    "\n",
    "Al igual que antes hemos creado un individuo en este caso crearemos una población. Una población es un conjunto de individuos, en nuestro caso entonces realizaremos un array de población"
   ]
  },
  {
   "cell_type": "code",
   "execution_count": 390,
   "metadata": {},
   "outputs": [],
   "source": [
    "def crearPoblacion(tamPoblacion,ngenesMLP, tam_entrada):\n",
    "    poblacion = []\n",
    "    for i in range (tamPoblacion):\n",
    "        time.sleep(1)\n",
    "        individuo = crearMLP(ngenesMLP,tam_entrada,0,0)\n",
    "        poblacion.append(individuo)\n",
    "    return poblacion"
   ]
  },
  {
   "cell_type": "markdown",
   "metadata": {},
   "source": [
    "### Evaluar población\n",
    "\n",
    "El calculo del fitness de la población se realiza mediante el evaluate del MLP. De esta manera, simplemente tendremos que iterar toda la población y devolver un array con el fitness de cada individuo en la posición de la población."
   ]
  },
  {
   "cell_type": "code",
   "execution_count": 391,
   "metadata": {},
   "outputs": [],
   "source": [
    "def evaluarPoblacion(poblacion,entradas_test,esperadas_test):\n",
    "    evalPobl = []\n",
    "    for individuo in poblacion:\n",
    "        metricas_totales = round(individuo.evaluate(entradas_test, esperadas_test,verbose=0)[1],3)\n",
    "        evalPobl.append(metricas_totales*150)\n",
    "    return evalPobl"
   ]
  },
  {
   "cell_type": "markdown",
   "metadata": {},
   "source": [
    "### Evaluar individuo\n",
    "\n",
    "Adicionalmente por si es requerido, crearemos una evaluacion para un unico individuo"
   ]
  },
  {
   "cell_type": "code",
   "execution_count": 392,
   "metadata": {},
   "outputs": [],
   "source": [
    "def evaluarIndividuo(individuo,entradas_test,esperadas_test):\n",
    "    metricas_totales = round(individuo.evaluate(entradas_test, esperadas_test,verbose=0)[1],3)\n",
    "    evalInd = round(metricas_totales*150)\n",
    "    return evalInd"
   ]
  },
  {
   "cell_type": "markdown",
   "metadata": {},
   "source": [
    "### Selección de replicar individuo\n",
    "\n",
    "Posteriormente necesitaremos un algoritmo de montecarlo, que nos permita elegir la probablididad de selección de el individuo. El método de montecarlo es generar un número aleatorio entre [0,1], si este número es menor que la probabilidad de selección, el individuo se replica, si no, no. En nuestro caso, recibimos una población y la recorremos, viendo cuales se cogen o no. De esta manera, devolvemos un de booleano donde indicamos si ese individuo se replica o no."
   ]
  },
  {
   "cell_type": "code",
   "execution_count": 393,
   "metadata": {},
   "outputs": [],
   "source": [
    "def seleccion(individuo,poblacion,entradas_test,esperadas_test):\n",
    "    fis_totales = evaluarPoblacion(poblacion,entradas_test,esperadas_test)\n",
    "    fi = evaluarIndividuo(individuo,entradas_test,esperadas_test)\n",
    "    nAleatorio = random.random()\n",
    "    ps = fi / np.amax(fis_totales)\n",
    "    print(fis_totales)\n",
    "    return nAleatorio < ps"
   ]
  },
  {
   "cell_type": "markdown",
   "metadata": {},
   "source": [
    "### Mutar\n",
    "\n",
    "Secuencialmente para todos los genes del padre decide si cada gen se copia fielmente en el hijo o se muta usando un Método de Montecarlo simple sobre el valor de Pm. Si muta, cámbialo por otro valor aleatorio en el rango (-1, 1). Prueba también otras opciones de mutación. "
   ]
  },
  {
   "cell_type": "code",
   "execution_count": 394,
   "metadata": {},
   "outputs": [],
   "source": [
    "def mutar(individuo):\n",
    "    pesos_antiguos = individuo.get_weights()\n",
    "    pesos_entrada_oculta = pesos_antiguos[0]\n",
    "    pesos_oculta_salida = pesos_antiguos[2]\n",
    "\n",
    "    for i in range(len(pesos_entrada_oculta)):\n",
    "        for j in range(len(pesos_entrada_oculta[i])):\n",
    "            nAl = random.random()\n",
    "            if(nAl < pm):\n",
    "                pesos_entrada_oculta[i][j] = random.uniform(-1, 1)\n",
    "\n",
    "    for i in range(len(pesos_oculta_salida)):\n",
    "        for j in range(len(pesos_oculta_salida[i])):\n",
    "            nAl = random.random()\n",
    "            if(nAl < pm):\n",
    "                pesos_oculta_salida[i][j] = random.uniform(-1, 1)\n",
    "    \n",
    "    aux1 = np.array([0., 0., 0., 0.], dtype='float32')\n",
    "    aux2 = np.array([0., 0., 0.], dtype='float32')\n",
    "    pesos_nuevos = [pesos_entrada_oculta,aux1,pesos_oculta_salida,aux2] # Los pesos con mutación\n",
    "\n",
    "    nuevoMLP = crearMLP(ngenes,4,1,pesos_nuevos)\n",
    "    \n",
    "    \n",
    "    return nuevoMLP"
   ]
  },
  {
   "cell_type": "markdown",
   "metadata": {},
   "source": [
    "### Simulación"
   ]
  },
  {
   "cell_type": "code",
   "execution_count": 395,
   "metadata": {},
   "outputs": [
    {
     "name": "stdout",
     "output_type": "stream",
     "text": [
      "[0.3333333432674408, 0.3333333432674408, 0.3333333432674408, 0.3333333432674408, 0.3333333432674408, 0.3333333432674408, 0.3333333432674408, 0.6399999856948853, 0.3333333432674408, 0.3333333432674408, 0.3333333432674408, 0.47999998927116394, 0.3333333432674408, 0.3333333432674408, 0.0]\n"
     ]
    },
    {
     "ename": "KeyboardInterrupt",
     "evalue": "",
     "output_type": "error",
     "traceback": [
      "\u001b[0;31m---------------------------------------------------------------------------\u001b[0m",
      "\u001b[0;31mKeyboardInterrupt\u001b[0m                         Traceback (most recent call last)",
      "\u001b[1;32m/home/gonzalo/Escritorio/IAII/LAB04/lab04_IAII/PR1/L4P1-RedNeuronal.ipynb Cell 25'\u001b[0m in \u001b[0;36m<cell line: 20>\u001b[0;34m()\u001b[0m\n\u001b[1;32m     <a href='vscode-notebook-cell:/home/gonzalo/Escritorio/IAII/LAB04/lab04_IAII/PR1/L4P1-RedNeuronal.ipynb#ch0000023?line=16'>17</a>\u001b[0m         \u001b[39mprint\u001b[39m(\u001b[39m\"\u001b[39m\u001b[39mMejor individuo tiene: \u001b[39m\u001b[39m\"\u001b[39m, \u001b[39mstr\u001b[39m(np\u001b[39m.\u001b[39mamax(evaluarPoblacion(poblacion,entradas,salidas))))\n\u001b[1;32m     <a href='vscode-notebook-cell:/home/gonzalo/Escritorio/IAII/LAB04/lab04_IAII/PR1/L4P1-RedNeuronal.ipynb#ch0000023?line=17'>18</a>\u001b[0m         \u001b[39mprint\u001b[39m(\u001b[39m\"\u001b[39m\u001b[39m========================================\u001b[39m\u001b[39m\"\u001b[39m)\n\u001b[0;32m---> <a href='vscode-notebook-cell:/home/gonzalo/Escritorio/IAII/LAB04/lab04_IAII/PR1/L4P1-RedNeuronal.ipynb#ch0000023?line=19'>20</a>\u001b[0m simular()\n",
      "\u001b[1;32m/home/gonzalo/Escritorio/IAII/LAB04/lab04_IAII/PR1/L4P1-RedNeuronal.ipynb Cell 25'\u001b[0m in \u001b[0;36msimular\u001b[0;34m()\u001b[0m\n\u001b[1;32m      <a href='vscode-notebook-cell:/home/gonzalo/Escritorio/IAII/LAB04/lab04_IAII/PR1/L4P1-RedNeuronal.ipynb#ch0000023?line=4'>5</a>\u001b[0m \u001b[39mfor\u001b[39;00m i \u001b[39min\u001b[39;00m \u001b[39mrange\u001b[39m(ngeneraciones):\n\u001b[1;32m      <a href='vscode-notebook-cell:/home/gonzalo/Escritorio/IAII/LAB04/lab04_IAII/PR1/L4P1-RedNeuronal.ipynb#ch0000023?line=5'>6</a>\u001b[0m     \u001b[39mfor\u001b[39;00m individuo \u001b[39min\u001b[39;00m poblacion: \u001b[39m# Recorremos toda la población\u001b[39;00m\n\u001b[0;32m----> <a href='vscode-notebook-cell:/home/gonzalo/Escritorio/IAII/LAB04/lab04_IAII/PR1/L4P1-RedNeuronal.ipynb#ch0000023?line=6'>7</a>\u001b[0m         seleccionado \u001b[39m=\u001b[39m seleccion(individuo,poblacion,entradas,salidas) \u001b[39m# Vemos si le toca mutarse o no\u001b[39;00m\n\u001b[1;32m      <a href='vscode-notebook-cell:/home/gonzalo/Escritorio/IAII/LAB04/lab04_IAII/PR1/L4P1-RedNeuronal.ipynb#ch0000023?line=7'>8</a>\u001b[0m         \u001b[39mif\u001b[39;00m(seleccionado): \u001b[39m# Lo mutamos y matamos alguien aleatorio\u001b[39;00m\n\u001b[1;32m      <a href='vscode-notebook-cell:/home/gonzalo/Escritorio/IAII/LAB04/lab04_IAII/PR1/L4P1-RedNeuronal.ipynb#ch0000023?line=8'>9</a>\u001b[0m             nuevoIndividuo \u001b[39m=\u001b[39m mutar(individuo) \u001b[39m# Lo mutamos\u001b[39;00m\n",
      "\u001b[1;32m/home/gonzalo/Escritorio/IAII/LAB04/lab04_IAII/PR1/L4P1-RedNeuronal.ipynb Cell 21'\u001b[0m in \u001b[0;36mseleccion\u001b[0;34m(individuo, poblacion, entradas_test, esperadas_test)\u001b[0m\n\u001b[1;32m      <a href='vscode-notebook-cell:/home/gonzalo/Escritorio/IAII/LAB04/lab04_IAII/PR1/L4P1-RedNeuronal.ipynb#ch0000019?line=0'>1</a>\u001b[0m \u001b[39mdef\u001b[39;00m \u001b[39mseleccion\u001b[39m(individuo,poblacion,entradas_test,esperadas_test):\n\u001b[0;32m----> <a href='vscode-notebook-cell:/home/gonzalo/Escritorio/IAII/LAB04/lab04_IAII/PR1/L4P1-RedNeuronal.ipynb#ch0000019?line=1'>2</a>\u001b[0m     fis_totales \u001b[39m=\u001b[39m evaluarPoblacion(poblacion,entradas_test,esperadas_test)\n\u001b[1;32m      <a href='vscode-notebook-cell:/home/gonzalo/Escritorio/IAII/LAB04/lab04_IAII/PR1/L4P1-RedNeuronal.ipynb#ch0000019?line=2'>3</a>\u001b[0m     fi \u001b[39m=\u001b[39m evaluarIndividuo(individuo,entradas_test,esperadas_test)\n\u001b[1;32m      <a href='vscode-notebook-cell:/home/gonzalo/Escritorio/IAII/LAB04/lab04_IAII/PR1/L4P1-RedNeuronal.ipynb#ch0000019?line=3'>4</a>\u001b[0m     nAleatorio \u001b[39m=\u001b[39m random\u001b[39m.\u001b[39mrandom()\n",
      "\u001b[1;32m/home/gonzalo/Escritorio/IAII/LAB04/lab04_IAII/PR1/L4P1-RedNeuronal.ipynb Cell 17'\u001b[0m in \u001b[0;36mevaluarPoblacion\u001b[0;34m(poblacion, entradas_test, esperadas_test)\u001b[0m\n\u001b[1;32m      <a href='vscode-notebook-cell:/home/gonzalo/Escritorio/IAII/LAB04/lab04_IAII/PR1/L4P1-RedNeuronal.ipynb#ch0000016?line=1'>2</a>\u001b[0m evalPobl \u001b[39m=\u001b[39m []\n\u001b[1;32m      <a href='vscode-notebook-cell:/home/gonzalo/Escritorio/IAII/LAB04/lab04_IAII/PR1/L4P1-RedNeuronal.ipynb#ch0000016?line=2'>3</a>\u001b[0m \u001b[39mfor\u001b[39;00m individuo \u001b[39min\u001b[39;00m poblacion:\n\u001b[0;32m----> <a href='vscode-notebook-cell:/home/gonzalo/Escritorio/IAII/LAB04/lab04_IAII/PR1/L4P1-RedNeuronal.ipynb#ch0000016?line=3'>4</a>\u001b[0m     metricas_totales \u001b[39m=\u001b[39m individuo\u001b[39m.\u001b[39;49mevaluate(entradas_test, esperadas_test,verbose\u001b[39m=\u001b[39;49m\u001b[39m0\u001b[39;49m)[\u001b[39m1\u001b[39m]\n\u001b[1;32m      <a href='vscode-notebook-cell:/home/gonzalo/Escritorio/IAII/LAB04/lab04_IAII/PR1/L4P1-RedNeuronal.ipynb#ch0000016?line=4'>5</a>\u001b[0m     evalPobl\u001b[39m.\u001b[39mappend(metricas_totales)\n\u001b[1;32m      <a href='vscode-notebook-cell:/home/gonzalo/Escritorio/IAII/LAB04/lab04_IAII/PR1/L4P1-RedNeuronal.ipynb#ch0000016?line=5'>6</a>\u001b[0m     evalPobl\n",
      "File \u001b[0;32m~/anaconda3/envs/tensorflow-environment/lib/python3.9/site-packages/tensorflow/python/keras/engine/training.py:1383\u001b[0m, in \u001b[0;36mModel.evaluate\u001b[0;34m(self, x, y, batch_size, verbose, sample_weight, steps, callbacks, max_queue_size, workers, use_multiprocessing, return_dict)\u001b[0m\n\u001b[1;32m   <a href='file:///home/gonzalo/anaconda3/envs/tensorflow-environment/lib/python3.9/site-packages/tensorflow/python/keras/engine/training.py?line=1380'>1381</a>\u001b[0m \u001b[39mself\u001b[39m\u001b[39m.\u001b[39m_test_counter\u001b[39m.\u001b[39massign(\u001b[39m0\u001b[39m)\n\u001b[1;32m   <a href='file:///home/gonzalo/anaconda3/envs/tensorflow-environment/lib/python3.9/site-packages/tensorflow/python/keras/engine/training.py?line=1381'>1382</a>\u001b[0m callbacks\u001b[39m.\u001b[39mon_test_begin()\n\u001b[0;32m-> <a href='file:///home/gonzalo/anaconda3/envs/tensorflow-environment/lib/python3.9/site-packages/tensorflow/python/keras/engine/training.py?line=1382'>1383</a>\u001b[0m \u001b[39mfor\u001b[39;00m _, iterator \u001b[39min\u001b[39;00m data_handler\u001b[39m.\u001b[39menumerate_epochs():  \u001b[39m# Single epoch.\u001b[39;00m\n\u001b[1;32m   <a href='file:///home/gonzalo/anaconda3/envs/tensorflow-environment/lib/python3.9/site-packages/tensorflow/python/keras/engine/training.py?line=1383'>1384</a>\u001b[0m   \u001b[39mself\u001b[39m\u001b[39m.\u001b[39mreset_metrics()\n\u001b[1;32m   <a href='file:///home/gonzalo/anaconda3/envs/tensorflow-environment/lib/python3.9/site-packages/tensorflow/python/keras/engine/training.py?line=1384'>1385</a>\u001b[0m   \u001b[39mwith\u001b[39;00m data_handler\u001b[39m.\u001b[39mcatch_stop_iteration():\n",
      "File \u001b[0;32m~/anaconda3/envs/tensorflow-environment/lib/python3.9/site-packages/tensorflow/python/keras/engine/data_adapter.py:1133\u001b[0m, in \u001b[0;36mDataHandler.enumerate_epochs\u001b[0;34m(self)\u001b[0m\n\u001b[1;32m   <a href='file:///home/gonzalo/anaconda3/envs/tensorflow-environment/lib/python3.9/site-packages/tensorflow/python/keras/engine/data_adapter.py?line=1130'>1131</a>\u001b[0m \u001b[39m\"\"\"Yields `(epoch, tf.data.Iterator)`.\"\"\"\u001b[39;00m\n\u001b[1;32m   <a href='file:///home/gonzalo/anaconda3/envs/tensorflow-environment/lib/python3.9/site-packages/tensorflow/python/keras/engine/data_adapter.py?line=1131'>1132</a>\u001b[0m \u001b[39mwith\u001b[39;00m \u001b[39mself\u001b[39m\u001b[39m.\u001b[39m_truncate_execution_to_epoch():\n\u001b[0;32m-> <a href='file:///home/gonzalo/anaconda3/envs/tensorflow-environment/lib/python3.9/site-packages/tensorflow/python/keras/engine/data_adapter.py?line=1132'>1133</a>\u001b[0m   data_iterator \u001b[39m=\u001b[39m \u001b[39miter\u001b[39;49m(\u001b[39mself\u001b[39;49m\u001b[39m.\u001b[39;49m_dataset)\n\u001b[1;32m   <a href='file:///home/gonzalo/anaconda3/envs/tensorflow-environment/lib/python3.9/site-packages/tensorflow/python/keras/engine/data_adapter.py?line=1133'>1134</a>\u001b[0m   \u001b[39mfor\u001b[39;00m epoch \u001b[39min\u001b[39;00m \u001b[39mrange\u001b[39m(\u001b[39mself\u001b[39m\u001b[39m.\u001b[39m_initial_epoch, \u001b[39mself\u001b[39m\u001b[39m.\u001b[39m_epochs):\n\u001b[1;32m   <a href='file:///home/gonzalo/anaconda3/envs/tensorflow-environment/lib/python3.9/site-packages/tensorflow/python/keras/engine/data_adapter.py?line=1134'>1135</a>\u001b[0m     \u001b[39mif\u001b[39;00m \u001b[39mself\u001b[39m\u001b[39m.\u001b[39m_insufficient_data:  \u001b[39m# Set by `catch_stop_iteration`.\u001b[39;00m\n",
      "File \u001b[0;32m~/anaconda3/envs/tensorflow-environment/lib/python3.9/site-packages/tensorflow/python/data/ops/dataset_ops.py:422\u001b[0m, in \u001b[0;36mDatasetV2.__iter__\u001b[0;34m(self)\u001b[0m\n\u001b[1;32m    <a href='file:///home/gonzalo/anaconda3/envs/tensorflow-environment/lib/python3.9/site-packages/tensorflow/python/data/ops/dataset_ops.py?line=419'>420</a>\u001b[0m \u001b[39mif\u001b[39;00m context\u001b[39m.\u001b[39mexecuting_eagerly() \u001b[39mor\u001b[39;00m ops\u001b[39m.\u001b[39minside_function():\n\u001b[1;32m    <a href='file:///home/gonzalo/anaconda3/envs/tensorflow-environment/lib/python3.9/site-packages/tensorflow/python/data/ops/dataset_ops.py?line=420'>421</a>\u001b[0m   \u001b[39mwith\u001b[39;00m ops\u001b[39m.\u001b[39mcolocate_with(\u001b[39mself\u001b[39m\u001b[39m.\u001b[39m_variant_tensor):\n\u001b[0;32m--> <a href='file:///home/gonzalo/anaconda3/envs/tensorflow-environment/lib/python3.9/site-packages/tensorflow/python/data/ops/dataset_ops.py?line=421'>422</a>\u001b[0m     \u001b[39mreturn\u001b[39;00m iterator_ops\u001b[39m.\u001b[39;49mOwnedIterator(\u001b[39mself\u001b[39;49m)\n\u001b[1;32m    <a href='file:///home/gonzalo/anaconda3/envs/tensorflow-environment/lib/python3.9/site-packages/tensorflow/python/data/ops/dataset_ops.py?line=422'>423</a>\u001b[0m \u001b[39melse\u001b[39;00m:\n\u001b[1;32m    <a href='file:///home/gonzalo/anaconda3/envs/tensorflow-environment/lib/python3.9/site-packages/tensorflow/python/data/ops/dataset_ops.py?line=423'>424</a>\u001b[0m   \u001b[39mraise\u001b[39;00m \u001b[39mRuntimeError\u001b[39;00m(\u001b[39m\"\u001b[39m\u001b[39m__iter__() is only supported inside of tf.function \u001b[39m\u001b[39m\"\u001b[39m\n\u001b[1;32m    <a href='file:///home/gonzalo/anaconda3/envs/tensorflow-environment/lib/python3.9/site-packages/tensorflow/python/data/ops/dataset_ops.py?line=424'>425</a>\u001b[0m                      \u001b[39m\"\u001b[39m\u001b[39mor when eager execution is enabled.\u001b[39m\u001b[39m\"\u001b[39m)\n",
      "File \u001b[0;32m~/anaconda3/envs/tensorflow-environment/lib/python3.9/site-packages/tensorflow/python/data/ops/iterator_ops.py:682\u001b[0m, in \u001b[0;36mOwnedIterator.__init__\u001b[0;34m(self, dataset, components, element_spec)\u001b[0m\n\u001b[1;32m    <a href='file:///home/gonzalo/anaconda3/envs/tensorflow-environment/lib/python3.9/site-packages/tensorflow/python/data/ops/iterator_ops.py?line=679'>680</a>\u001b[0m \u001b[39mif\u001b[39;00m (components \u001b[39mis\u001b[39;00m \u001b[39mnot\u001b[39;00m \u001b[39mNone\u001b[39;00m \u001b[39mor\u001b[39;00m element_spec \u001b[39mis\u001b[39;00m \u001b[39mnot\u001b[39;00m \u001b[39mNone\u001b[39;00m):\n\u001b[1;32m    <a href='file:///home/gonzalo/anaconda3/envs/tensorflow-environment/lib/python3.9/site-packages/tensorflow/python/data/ops/iterator_ops.py?line=680'>681</a>\u001b[0m   \u001b[39mraise\u001b[39;00m \u001b[39mValueError\u001b[39;00m(error_message)\n\u001b[0;32m--> <a href='file:///home/gonzalo/anaconda3/envs/tensorflow-environment/lib/python3.9/site-packages/tensorflow/python/data/ops/iterator_ops.py?line=681'>682</a>\u001b[0m \u001b[39mself\u001b[39;49m\u001b[39m.\u001b[39;49m_create_iterator(dataset)\n",
      "File \u001b[0;32m~/anaconda3/envs/tensorflow-environment/lib/python3.9/site-packages/tensorflow/python/data/ops/iterator_ops.py:705\u001b[0m, in \u001b[0;36mOwnedIterator._create_iterator\u001b[0;34m(self, dataset)\u001b[0m\n\u001b[1;32m    <a href='file:///home/gonzalo/anaconda3/envs/tensorflow-environment/lib/python3.9/site-packages/tensorflow/python/data/ops/iterator_ops.py?line=699'>700</a>\u001b[0m \u001b[39mwith\u001b[39;00m ops\u001b[39m.\u001b[39mcolocate_with(ds_variant):\n\u001b[1;32m    <a href='file:///home/gonzalo/anaconda3/envs/tensorflow-environment/lib/python3.9/site-packages/tensorflow/python/data/ops/iterator_ops.py?line=700'>701</a>\u001b[0m   \u001b[39mself\u001b[39m\u001b[39m.\u001b[39m_iterator_resource, \u001b[39mself\u001b[39m\u001b[39m.\u001b[39m_deleter \u001b[39m=\u001b[39m (\n\u001b[1;32m    <a href='file:///home/gonzalo/anaconda3/envs/tensorflow-environment/lib/python3.9/site-packages/tensorflow/python/data/ops/iterator_ops.py?line=701'>702</a>\u001b[0m       gen_dataset_ops\u001b[39m.\u001b[39manonymous_iterator_v2(\n\u001b[1;32m    <a href='file:///home/gonzalo/anaconda3/envs/tensorflow-environment/lib/python3.9/site-packages/tensorflow/python/data/ops/iterator_ops.py?line=702'>703</a>\u001b[0m           output_types\u001b[39m=\u001b[39m\u001b[39mself\u001b[39m\u001b[39m.\u001b[39m_flat_output_types,\n\u001b[1;32m    <a href='file:///home/gonzalo/anaconda3/envs/tensorflow-environment/lib/python3.9/site-packages/tensorflow/python/data/ops/iterator_ops.py?line=703'>704</a>\u001b[0m           output_shapes\u001b[39m=\u001b[39m\u001b[39mself\u001b[39m\u001b[39m.\u001b[39m_flat_output_shapes))\n\u001b[0;32m--> <a href='file:///home/gonzalo/anaconda3/envs/tensorflow-environment/lib/python3.9/site-packages/tensorflow/python/data/ops/iterator_ops.py?line=704'>705</a>\u001b[0m   gen_dataset_ops\u001b[39m.\u001b[39;49mmake_iterator(ds_variant, \u001b[39mself\u001b[39;49m\u001b[39m.\u001b[39;49m_iterator_resource)\n\u001b[1;32m    <a href='file:///home/gonzalo/anaconda3/envs/tensorflow-environment/lib/python3.9/site-packages/tensorflow/python/data/ops/iterator_ops.py?line=705'>706</a>\u001b[0m   \u001b[39m# Delete the resource when this object is deleted\u001b[39;00m\n\u001b[1;32m    <a href='file:///home/gonzalo/anaconda3/envs/tensorflow-environment/lib/python3.9/site-packages/tensorflow/python/data/ops/iterator_ops.py?line=706'>707</a>\u001b[0m   \u001b[39mself\u001b[39m\u001b[39m.\u001b[39m_resource_deleter \u001b[39m=\u001b[39m IteratorResourceDeleter(\n\u001b[1;32m    <a href='file:///home/gonzalo/anaconda3/envs/tensorflow-environment/lib/python3.9/site-packages/tensorflow/python/data/ops/iterator_ops.py?line=707'>708</a>\u001b[0m       handle\u001b[39m=\u001b[39m\u001b[39mself\u001b[39m\u001b[39m.\u001b[39m_iterator_resource,\n\u001b[1;32m    <a href='file:///home/gonzalo/anaconda3/envs/tensorflow-environment/lib/python3.9/site-packages/tensorflow/python/data/ops/iterator_ops.py?line=708'>709</a>\u001b[0m       deleter\u001b[39m=\u001b[39m\u001b[39mself\u001b[39m\u001b[39m.\u001b[39m_deleter)\n",
      "File \u001b[0;32m~/anaconda3/envs/tensorflow-environment/lib/python3.9/site-packages/tensorflow/python/ops/gen_dataset_ops.py:2971\u001b[0m, in \u001b[0;36mmake_iterator\u001b[0;34m(dataset, iterator, name)\u001b[0m\n\u001b[1;32m   <a href='file:///home/gonzalo/anaconda3/envs/tensorflow-environment/lib/python3.9/site-packages/tensorflow/python/ops/gen_dataset_ops.py?line=2968'>2969</a>\u001b[0m \u001b[39mif\u001b[39;00m tld\u001b[39m.\u001b[39mis_eager:\n\u001b[1;32m   <a href='file:///home/gonzalo/anaconda3/envs/tensorflow-environment/lib/python3.9/site-packages/tensorflow/python/ops/gen_dataset_ops.py?line=2969'>2970</a>\u001b[0m   \u001b[39mtry\u001b[39;00m:\n\u001b[0;32m-> <a href='file:///home/gonzalo/anaconda3/envs/tensorflow-environment/lib/python3.9/site-packages/tensorflow/python/ops/gen_dataset_ops.py?line=2970'>2971</a>\u001b[0m     _result \u001b[39m=\u001b[39m pywrap_tfe\u001b[39m.\u001b[39;49mTFE_Py_FastPathExecute(\n\u001b[1;32m   <a href='file:///home/gonzalo/anaconda3/envs/tensorflow-environment/lib/python3.9/site-packages/tensorflow/python/ops/gen_dataset_ops.py?line=2971'>2972</a>\u001b[0m       _ctx, \u001b[39m\"\u001b[39;49m\u001b[39mMakeIterator\u001b[39;49m\u001b[39m\"\u001b[39;49m, name, dataset, iterator)\n\u001b[1;32m   <a href='file:///home/gonzalo/anaconda3/envs/tensorflow-environment/lib/python3.9/site-packages/tensorflow/python/ops/gen_dataset_ops.py?line=2972'>2973</a>\u001b[0m     \u001b[39mreturn\u001b[39;00m _result\n\u001b[1;32m   <a href='file:///home/gonzalo/anaconda3/envs/tensorflow-environment/lib/python3.9/site-packages/tensorflow/python/ops/gen_dataset_ops.py?line=2973'>2974</a>\u001b[0m   \u001b[39mexcept\u001b[39;00m _core\u001b[39m.\u001b[39m_NotOkStatusException \u001b[39mas\u001b[39;00m e:\n",
      "\u001b[0;31mKeyboardInterrupt\u001b[0m: "
     ]
    }
   ],
   "source": [
    "def simular():\n",
    "    \n",
    "    poblacion = crearPoblacion(npob,ngenes, 4) # Población inicial\n",
    "\n",
    "    for i in range(ngeneraciones):\n",
    "        for individuo in poblacion: # Recorremos toda la población\n",
    "            seleccionado = seleccion(individuo,poblacion,entradas,salidas) # Vemos si le toca mutarse o no\n",
    "            if(seleccionado): # Lo mutamos y matamos alguien aleatorio\n",
    "                nuevoIndividuo = mutar(individuo) # Lo mutamos\n",
    "                muerto = random.randint(0, npob-1) # Nos cargamos un random\n",
    "                poblacion[muerto] = nuevoIndividuo\n",
    "                print(\"!cambio! muere \", str(muerto), \"angituo \", str(evaluarIndividuo(individuo,entradas,salidas)), \"nuevo \", str(evaluarIndividuo(nuevoIndividuo,entradas,salidas)))\n",
    "                \n",
    "        \n",
    "        print(\"========================================\")\n",
    "        print(\"Nº generacion\", str(i+1))\n",
    "        print(\"Mejor individuo tiene: \", str(np.amax(evaluarPoblacion(poblacion,entradas,salidas))))\n",
    "        print(\"========================================\")\n",
    "\n",
    "simular()"
   ]
  }
 ],
 "metadata": {
  "interpreter": {
   "hash": "89f28dc4781dab19edf63b5c71a1687fff9fce01d0e8a3b589ee0bb3a5a37f0a"
  },
  "kernelspec": {
   "display_name": "Python 3.9.7 ('base')",
   "language": "python",
   "name": "python3"
  },
  "language_info": {
   "codemirror_mode": {
    "name": "ipython",
    "version": 3
   },
   "file_extension": ".py",
   "mimetype": "text/x-python",
   "name": "python",
   "nbconvert_exporter": "python",
   "pygments_lexer": "ipython3",
   "version": "3.9.7"
  },
  "orig_nbformat": 4
 },
 "nbformat": 4,
 "nbformat_minor": 2
}
