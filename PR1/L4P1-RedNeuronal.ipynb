{
 "cells": [
  {
   "cell_type": "markdown",
   "metadata": {},
   "source": [
    "# Práctica 1\n",
    "\n",
    "Gonzalo Monedero - Marcos Molina - Nicolás Salgado - Iñigo Vázquez"
   ]
  },
  {
   "cell_type": "markdown",
   "metadata": {},
   "source": [
    "## Preparación del entorno"
   ]
  },
  {
   "cell_type": "code",
   "execution_count": null,
   "metadata": {},
   "outputs": [],
   "source": [
    "import matplotlib.pyplot as plt\n",
    "import numpy as np\n",
    "import pandas as pd\n",
    "import keras as ker\n",
    "import tensorflow as tf\n",
    "import random\n",
    "import time\n",
    "import collections\n",
    "\n",
    "from sklearn.model_selection import train_test_split \n",
    "from sklearn.preprocessing import LabelEncoder\n",
    "from sklearn.preprocessing import MinMaxScaler\n",
    "\n",
    "# Quitar warnings feos\n",
    "tf.compat.v1.logging.set_verbosity(tf.compat.v1.logging.ERROR)"
   ]
  },
  {
   "cell_type": "markdown",
   "metadata": {},
   "source": [
    "## Preprocesamiento de datos"
   ]
  },
  {
   "cell_type": "markdown",
   "metadata": {},
   "source": [
    "### Creación del dataset\n"
   ]
  },
  {
   "cell_type": "code",
   "execution_count": null,
   "metadata": {},
   "outputs": [],
   "source": [
    "iris_RAW = pd.read_csv('../Data/iris.data', sep=',')\n",
    "iris_OG = iris_RAW.copy()\n",
    "salidas = iris_RAW.pop(\"class\")"
   ]
  },
  {
   "cell_type": "markdown",
   "metadata": {},
   "source": [
    "## Creación entradas y salidas"
   ]
  },
  {
   "cell_type": "code",
   "execution_count": null,
   "metadata": {},
   "outputs": [],
   "source": [
    "entradas = iris_RAW.to_numpy()\n",
    "mm = MinMaxScaler()\n",
    "entradas = mm.fit_transform(entradas)\n",
    "\n",
    "# Categorizamos salidas\n",
    "label_encoder = LabelEncoder()\n",
    "salidas = label_encoder.fit_transform(salidas)\n"
   ]
  },
  {
   "cell_type": "markdown",
   "metadata": {},
   "source": [
    "# Funciones algoritmo genético"
   ]
  },
  {
   "cell_type": "markdown",
   "metadata": {},
   "source": [
    "### Variables a definir"
   ]
  },
  {
   "cell_type": "code",
   "execution_count": null,
   "metadata": {},
   "outputs": [],
   "source": [
    "\"\"\"\n",
    "ngenes: nneuronas de cada individuo. Sacado a traves del L4P1-EstudioRed.ipynb\n",
    "NPOB: Número de individuos de la población \n",
    "NGEN: Número de generaciones (ciclo completo sobre todos los individuos) \n",
    "Pm: Probabilidad de mutación: Probabilidad de que un gen dado mute \n",
    "NRES: Cada cuántas generaciones se imprime un resumen de la evolución del proceso \n",
    "NSAMPLE: Cada qué número de generaciones se saca un muestreo de la población \n",
    "\"\"\"\n",
    "\n",
    "ngenes = 4 # NO TOCAR\n",
    "npob = 10 # NO TOCAR\n",
    "ngeneraciones = 200 # TOCAR\n",
    "pm = 0.3 # TOCAR\n",
    "nres = 10 # TOCAR\n",
    "nsample = 50 # TOCAR"
   ]
  },
  {
   "cell_type": "markdown",
   "metadata": {},
   "source": [
    "### Crear inidividuo\n",
    "\n",
    "Como bien se dice en el enunciado, un individuo es un MLP sin entrenar, con tantos genes como hemos calculado. En nuestro caso son 7 genes, y el tamaño de entrada son 4. De esta manera creamos un MLP básico."
   ]
  },
  {
   "cell_type": "code",
   "execution_count": null,
   "metadata": {},
   "outputs": [],
   "source": [
    "def crearMLP(ngenesMLP, tam_entrada,tipo,pesos):\n",
    "\n",
    "    MLP = ker.Sequential() # Creamos el modelo vacío\n",
    "\n",
    "    # Añadimos la primera capa (tecnicamente dos, la de entrada (con la variable input_dim) y la oculta)\n",
    "    MLP.add(ker.layers.Dense(ngenesMLP, input_dim = tam_entrada, activation='relu'))\n",
    "\n",
    "    # Añadimos la capa de salida\n",
    "    MLP.add(ker.layers.Dense(1,activation='sigmoid')) \n",
    "\n",
    "    # Por último tenemos que configurar el modelo antes de entrenarlo con lo dicho en el enunciado\n",
    "    # Optimizador: Adam\n",
    "    # Función error: Mean Squared Error\n",
    "    # Metricas = Binary accuracy porque nos da el número de precisión de la red\n",
    "    MLP.compile(optimizer='adam',loss='mean_squared_error',metrics=[\"accuracy\"])\n",
    "\n",
    "    if(tipo == 1): # Le metemos pesos ya predeterminados\n",
    "        MLP.set_weights(pesos)\n",
    "\n",
    "    return MLP"
   ]
  },
  {
   "cell_type": "markdown",
   "metadata": {},
   "source": [
    "### Crear población\n",
    "\n",
    "Al igual que antes hemos creado un individuo en este caso crearemos una población. Una población es un conjunto de individuos, en nuestro caso entonces realizaremos un array de población"
   ]
  },
  {
   "cell_type": "code",
   "execution_count": null,
   "metadata": {},
   "outputs": [],
   "source": [
    "def crearPoblacion(tamPoblacion,ngenesMLP, tam_entrada):\n",
    "    poblacion = []\n",
    "    for i in range (tamPoblacion):\n",
    "        time.sleep(1)\n",
    "        individuo = crearMLP(ngenesMLP,tam_entrada,0,0)\n",
    "        poblacion.append(individuo)\n",
    "    return poblacion"
   ]
  },
  {
   "cell_type": "markdown",
   "metadata": {},
   "source": [
    "### Evaluar población\n",
    "\n",
    "El calculo del fitness de la población se realiza mediante el evaluate del MLP. De esta manera, simplemente tendremos que iterar toda la población y devolver un array con el fitness de cada individuo en la posición de la población."
   ]
  },
  {
   "cell_type": "code",
   "execution_count": null,
   "metadata": {},
   "outputs": [],
   "source": [
    "def evaluarPoblacion(poblacion,entradas_test,esperadas_test):\n",
    "    evalPobl = []\n",
    "    for individuo in poblacion:\n",
    "        metricas_totales = round(individuo.evaluate(entradas_test, esperadas_test,verbose=0)[1],3)\n",
    "        evalPobl.append(metricas_totales*150)\n",
    "    return evalPobl"
   ]
  },
  {
   "cell_type": "markdown",
   "metadata": {},
   "source": [
    "### Evaluar individuo\n",
    "\n",
    "Adicionalmente por si es requerido, crearemos una evaluacion para un unico individuo"
   ]
  },
  {
   "cell_type": "code",
   "execution_count": null,
   "metadata": {},
   "outputs": [],
   "source": [
    "def evaluarIndividuo(individuo,entradas_test,esperadas_test):\n",
    "    metricas_totales = round(individuo.evaluate(entradas_test, esperadas_test,verbose=0)[1],3)\n",
    "    evalInd = metricas_totales*150\n",
    "    return evalInd"
   ]
  },
  {
   "cell_type": "markdown",
   "metadata": {},
   "source": [
    "### Selección de replicar individuo\n",
    "\n",
    "Posteriormente necesitaremos un algoritmo de montecarlo, que nos permita elegir la probablididad de selección de el individuo. El método de montecarlo es generar un número aleatorio entre [0,1], si este número es menor que la probabilidad de selección, el individuo se replica, si no, no. En nuestro caso, recibimos una población y la recorremos, viendo cuales se cogen o no. De esta manera, devolvemos un de booleano donde indicamos si ese individuo se replica o no."
   ]
  },
  {
   "cell_type": "code",
   "execution_count": null,
   "metadata": {},
   "outputs": [],
   "source": [
    "def seleccion(individuo,poblacion,entradas_test,esperadas_test):\n",
    "    fis_totales = evaluarPoblacion(poblacion,entradas_test,esperadas_test)\n",
    "    fi = evaluarIndividuo(individuo,entradas_test,esperadas_test)\n",
    "    nAleatorio = random.uniform(0, 1)\n",
    "    ps = fi / np.amax(fis_totales)\n",
    "    print(fis_totales)\n",
    "    return nAleatorio < ps"
   ]
  },
  {
   "cell_type": "markdown",
   "metadata": {},
   "source": [
    "### Mutar\n",
    "\n",
    "Secuencialmente para todos los genes del padre decide si cada gen se copia fielmente en el hijo o se muta usando un Método de Montecarlo simple sobre el valor de Pm. Si muta, cámbialo por otro valor aleatorio en el rango (-1, 1). Prueba también otras opciones de mutación. "
   ]
  },
  {
   "cell_type": "code",
   "execution_count": null,
   "metadata": {},
   "outputs": [],
   "source": [
    "def mutar(individuo):\n",
    "    pesos_antiguos = individuo.get_weights()\n",
    "    pesos_entrada_oculta = pesos_antiguos[0]\n",
    "    pesos_oculta_salida = pesos_antiguos[2]\n",
    "\n",
    "    for i in range(len(pesos_entrada_oculta)):\n",
    "        for j in range(len(pesos_entrada_oculta[i])):\n",
    "            nAl = random.uniform(0, 1)\n",
    "            if(nAl < pm):\n",
    "                pesos_entrada_oculta[i][j] = random.uniform(-1, 1)\n",
    "\n",
    "    for i in range(len(pesos_oculta_salida)):\n",
    "        for j in range(len(pesos_oculta_salida[i])):\n",
    "            nAl = random.uniform(0, 1)\n",
    "            if(nAl < pm):\n",
    "                pesos_oculta_salida[i][j] = random.uniform(-1, 1)\n",
    "    \n",
    "    aux1 = np.array([0., 0., 0., 0.], dtype='float32')\n",
    "    aux2 = np.array([0.], dtype='float32')\n",
    "    pesos_nuevos = [pesos_entrada_oculta,aux1,pesos_oculta_salida,aux2] # Los pesos con mutación\n",
    "\n",
    "    nuevoMLP = crearMLP(ngenes,4,1,pesos_nuevos)\n",
    "\n",
    "    return nuevoMLP"
   ]
  },
  {
   "cell_type": "markdown",
   "metadata": {},
   "source": [
    "### Simulación"
   ]
  },
  {
   "cell_type": "code",
   "execution_count": null,
   "metadata": {},
   "outputs": [],
   "source": [
    "def simular():\n",
    "    \n",
    "    poblacion = crearPoblacion(npob,ngenes, 4) # Población inicial\n",
    "\n",
    "    for i in range(ngeneraciones):\n",
    "        for individuo in poblacion: # Recorremos toda la población\n",
    "            contador = 0\n",
    "            seleccionado = seleccion(individuo,poblacion,entradas,salidas) # Vemos si le toca mutarse o no\n",
    "            if(seleccionado): # Lo mutamos y matamos alguien aleatorio\n",
    "                nuevoIndividuo = mutar(individuo) # Lo mutamos\n",
    "                if(evaluarIndividuo(individuo,entradas,salidas) < evaluarIndividuo(nuevoIndividuo,entradas,salidas)):\n",
    "                    muerto = random.randint(0, npob-1) # Nos cargamos un random\n",
    "                    poblacion[muerto] = nuevoIndividuo\n",
    "                    print(evaluarIndividuo(individuo,entradas,salidas), evaluarIndividuo(nuevoIndividuo,entradas,salidas), evaluarIndividuo(poblacion[muerto],entradas,salidas), muerto)\n",
    "                \n",
    "                if(i % nres == 0 and i % nsample != 0): # imprime un resumen de la evolución del proceso \n",
    "                    pobFit = evaluarPoblacion(poblacion,entradas,salidas)\n",
    "                    valMejInd = np.amax(pobFit)\n",
    "                    nInd = collections.Counter(pobFit)[valMejInd]\n",
    "                    print(\"======================= RESUMEN =======================\")\n",
    "                    print(\"Nº generacion\", str(i+1))\n",
    "                    print(\"Mejor individuo tiene: \", str(valMejInd))\n",
    "                    print(\"Hay \", str(nInd), \"con el mejor fitness, lo cual es un \", str((nInd/npob)*100),\"%\")\n",
    "                    print(\"=======================================================\")\n",
    "                \n",
    "                if(i % nsample == 0): # muestreo de la población \n",
    "                    pobFit = evaluarPoblacion(poblacion,entradas,salidas)\n",
    "                    valMejInd = np.amax(pobFit)\n",
    "                    nInd = collections.Counter(pobFit)[valMejInd]\n",
    "\n",
    "                    nindmuestreo = npob * 0.2 # 20%\n",
    "                    muestreo = random.sample(poblacion, nindmuestreo)\n",
    "                    print(\"======================= RESUMEN Y MUESTREO =======================\")\n",
    "                    print(\"Nº generacion\", str(i+1))\n",
    "                    print(\"Mejor individuo tiene: \", str(valMejInd))\n",
    "                    print(\"Hay \", str(nInd), \"con el mejor fitness, lo cual es un \", str((nInd/npob)*100),\"%\")\n",
    "                    print(\"Muestro de \", str(nindmuestreo), \"individuos\")\n",
    "                    for individuoMuestreo in muestreo:\n",
    "                        contador += 1\n",
    "                        print(\"Individuo \", str(contador), \"tiene fitness de\", str(evaluarIndividuo(individuoMuestreo,entradas,salidas)))\n",
    "                    print(\"==================================================================\")\n",
    "\n",
    "simular()"
   ]
  }
 ],
 "metadata": {
  "interpreter": {
   "hash": "89f28dc4781dab19edf63b5c71a1687fff9fce01d0e8a3b589ee0bb3a5a37f0a"
  },
  "kernelspec": {
   "display_name": "Python 3.9.7 ('base')",
   "language": "python",
   "name": "python3"
  },
  "language_info": {
   "codemirror_mode": {
    "name": "ipython",
    "version": 3
   },
   "file_extension": ".py",
   "mimetype": "text/x-python",
   "name": "python",
   "nbconvert_exporter": "python",
   "pygments_lexer": "ipython3",
   "version": "3.9.7"
  },
  "orig_nbformat": 4
 },
 "nbformat": 4,
 "nbformat_minor": 2
}
