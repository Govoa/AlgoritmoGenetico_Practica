{
 "cells": [
  {
   "cell_type": "markdown",
   "metadata": {},
   "source": [
    "# Práctica 1\n",
    "\n",
    "Gonzalo Monedero - Marcos Molina - Nicolás Salgado - Iñigo Vázquez"
   ]
  },
  {
   "cell_type": "markdown",
   "metadata": {},
   "source": [
    "## Preparación del entorno"
   ]
  },
  {
   "cell_type": "code",
   "execution_count": 3,
   "metadata": {},
   "outputs": [],
   "source": [
    "import matplotlib.pyplot as plt\n",
    "import numpy as np\n",
    "import pandas as pd\n",
    "import keras as ker\n",
    "import tensorflow as tf\n",
    "import random\n",
    "import time\n",
    "import collections\n",
    "import statistics\n",
    "\n",
    "from sklearn.preprocessing import MinMaxScaler\n",
    "from statistics import mode\n",
    "\n",
    "\n",
    "# Quitar warnings feos\n",
    "tf.compat.v1.logging.set_verbosity(tf.compat.v1.logging.ERROR)"
   ]
  },
  {
   "cell_type": "markdown",
   "metadata": {},
   "source": [
    "## Preprocesamiento de datos"
   ]
  },
  {
   "cell_type": "markdown",
   "metadata": {},
   "source": [
    "### Creación del dataset\n"
   ]
  },
  {
   "cell_type": "code",
   "execution_count": 4,
   "metadata": {},
   "outputs": [],
   "source": [
    "iris_RAW = pd.read_csv('../Data/iris.data', sep=',')\n",
    "iris_OG = iris_RAW.copy()\n",
    "salidas = iris_RAW.pop(\"class\")"
   ]
  },
  {
   "cell_type": "markdown",
   "metadata": {},
   "source": [
    "## Creación entradas y salidas"
   ]
  },
  {
   "cell_type": "code",
   "execution_count": 5,
   "metadata": {},
   "outputs": [],
   "source": [
    "# Entradas del MP escaladas entre 0 y 1\n",
    "entradas = iris_RAW.to_numpy()\n",
    "mm = MinMaxScaler()\n",
    "entradas = mm.fit_transform(entradas)\n",
    "\n",
    "# Salidas categorizadas como (001/010/100) según la clase\n",
    "salidas = pd.get_dummies(salidas)"
   ]
  },
  {
   "cell_type": "markdown",
   "metadata": {},
   "source": [
    "# Funciones algoritmo genético"
   ]
  },
  {
   "cell_type": "markdown",
   "metadata": {},
   "source": [
    "### Variables a definir"
   ]
  },
  {
   "cell_type": "code",
   "execution_count": 6,
   "metadata": {},
   "outputs": [],
   "source": [
    "\"\"\"\n",
    "ngenes: nneuronas de cada individuo. Sacado a traves del L4P1-EstudioRed.ipynb\n",
    "NPOB: Número de individuos de la población \n",
    "NGEN: Número de generaciones (ciclo completo sobre todos los individuos) \n",
    "CONVGEN: Número de generaciones que si no hay cambio para.\n",
    "Pm: Probabilidad de mutación: Probabilidad de que un gen dado mute \n",
    "NRES: Cada cuántas generaciones se imprime un resumen de la evolución del proceso \n",
    "NSAMPLE: Cada qué número de generaciones se saca un muestreo de la población \n",
    "\"\"\"\n",
    "\n",
    "ngenes = 8 # NO TOCAR\n",
    "npob = 20 # NO TOCAR\n",
    "ngeneraciones = 10 # TOCAR\n",
    "convgen = 5 # TOCAR\n",
    "pm = 0.05 # TOCAR\n",
    "nres = 10 # TOCAR\n",
    "nsample = 30 # TOCAR"
   ]
  },
  {
   "cell_type": "markdown",
   "metadata": {},
   "source": [
    "### Crear inidividuo\n",
    "\n",
    "Como bien se dice en el enunciado, un individuo es un MLP sin entrenar, con tantos genes como hemos calculado. En nuestro caso son 7 genes, y el tamaño de entrada son 4. De esta manera creamos un MLP básico."
   ]
  },
  {
   "cell_type": "code",
   "execution_count": 7,
   "metadata": {},
   "outputs": [],
   "source": [
    "def crearMLP(ngenesMLP, tam_entrada,tipo,pesos):\n",
    "\n",
    "    MLP = ker.Sequential() # Creamos el modelo vacío\n",
    "\n",
    "    # Añadimos la primera capa (tecnicamente dos, la de entrada (con la variable input_dim) y la oculta)\n",
    "    MLP.add(ker.layers.Dense(ngenesMLP, input_dim = tam_entrada, activation='relu'))\n",
    "\n",
    "    # Añadimos la capa de salida\n",
    "    MLP.add(ker.layers.Dense(3,activation='sigmoid')) \n",
    "\n",
    "    # Por último tenemos que configurar el modelo antes de entrenarlo con lo dicho en el enunciado\n",
    "    # Optimizador: Adam\n",
    "    # Función error: Mean Squared Error\n",
    "    # Metricas = Binary accuracy porque nos da el número de precisión de la red\n",
    "    MLP.compile(optimizer='adam',loss='mean_squared_error',metrics=[\"accuracy\"])\n",
    "\n",
    "    if(tipo == 1): # Le metemos pesos ya predeterminados\n",
    "        MLP.set_weights(pesos)\n",
    "\n",
    "    return MLP"
   ]
  },
  {
   "cell_type": "markdown",
   "metadata": {},
   "source": [
    "### Crear población\n",
    "\n",
    "Al igual que antes hemos creado un individuo en este caso crearemos una población. Una población es un conjunto de individuos, en nuestro caso entonces realizaremos un array de población"
   ]
  },
  {
   "cell_type": "code",
   "execution_count": 8,
   "metadata": {},
   "outputs": [],
   "source": [
    "def crearPoblacion(tamPoblacion,ngenesMLP, tam_entrada):\n",
    "    poblacion = []\n",
    "    for i in range (tamPoblacion):\n",
    "        time.sleep(1)\n",
    "        individuo = crearMLP(ngenesMLP,tam_entrada,0,0)\n",
    "        poblacion.append(individuo)\n",
    "    return poblacion"
   ]
  },
  {
   "cell_type": "markdown",
   "metadata": {},
   "source": [
    "### Evaluar población\n",
    "\n",
    "El calculo del fitness de la población se realiza mediante el evaluate del MLP. De esta manera, simplemente tendremos que iterar toda la población y devolver un array con el fitness de cada individuo en la posición de la población."
   ]
  },
  {
   "cell_type": "code",
   "execution_count": 9,
   "metadata": {},
   "outputs": [],
   "source": [
    "def evaluarPoblacion(poblacion,entradas_test,esperadas_test):\n",
    "    evalPobl = []\n",
    "    for individuo in poblacion:\n",
    "        metricas_totales = round(individuo.evaluate(entradas_test, esperadas_test,verbose=0)[1],3)\n",
    "        evalPobl.append(metricas_totales*150)\n",
    "    return evalPobl"
   ]
  },
  {
   "cell_type": "markdown",
   "metadata": {},
   "source": [
    "### Evaluar individuo\n",
    "\n",
    "Adicionalmente por si es requerido, crearemos una evaluacion para un unico individuo"
   ]
  },
  {
   "cell_type": "code",
   "execution_count": 10,
   "metadata": {},
   "outputs": [],
   "source": [
    "def evaluarIndividuo(individuo,entradas_test,esperadas_test):\n",
    "    metricas_totales = round(individuo.evaluate(entradas_test, esperadas_test,verbose=0)[1],3)\n",
    "    evalInd = metricas_totales*150\n",
    "    return evalInd"
   ]
  },
  {
   "cell_type": "markdown",
   "metadata": {},
   "source": [
    "### Selección de replicar individuo\n",
    "\n",
    "Posteriormente necesitaremos un algoritmo de montecarlo, que nos permita elegir la probablididad de selección de el individuo. El método de montecarlo es generar un número aleatorio entre [0,1], si este número es menor que la probabilidad de selección, el individuo se replica, si no, no. En nuestro caso, recibimos una población y la recorremos, viendo cuales se cogen o no. De esta manera, devolvemos un de booleano donde indicamos si ese individuo se replica o no."
   ]
  },
  {
   "cell_type": "code",
   "execution_count": 11,
   "metadata": {},
   "outputs": [],
   "source": [
    "def seleccion(individuo,poblacion,entradas_test,esperadas_test):\n",
    "    fis_totales = evaluarPoblacion(poblacion,entradas_test,esperadas_test)\n",
    "    fi = evaluarIndividuo(individuo,entradas_test,esperadas_test)\n",
    "    nAleatorio = random.uniform(0, 1)\n",
    "    ps = fi / np.amax(fis_totales)\n",
    "    return nAleatorio < ps"
   ]
  },
  {
   "cell_type": "markdown",
   "metadata": {},
   "source": [
    "### Crossover\n",
    "\n",
    "Hemos querido mejorar los resultados usando crossover antes de mutar para que los individuos seleccionados se reproduzcan y creen nuevos hijos. Dado que usa dos padres, devuelve dos individuos hijos. Por parametros se elige el punto de cruze, llamado 'crossover point', que por defecto es 0.8."
   ]
  },
  {
   "cell_type": "code",
   "execution_count": 12,
   "metadata": {},
   "outputs": [],
   "source": [
    "def crossover(a, b, index): # Funcion que realiza el crossover\n",
    "    pesos1 = []\n",
    "    pesos2 = [] \n",
    "    pesos_hijo1 = []\n",
    "    pesos_hijo2 = []\n",
    "\n",
    "    for capa in a.layers:\n",
    "        pesos1.append(capa.get_weights()[0])\n",
    "    for capa in b.layers:\n",
    "        pesos2.append(capa.get_weights()[0])\n",
    "    index1 = int(index * len(pesos1))#int(index * (np.shape(pesos1)[1]-1))\n",
    "    index2 = int(index * len(pesos2))#int(index * (np.shape(pesos2)[1]-1))\n",
    "    pesos_hijo1, pesos_hijo2 = pesos2[:index2] + pesos1[index1:], pesos1[:index1] + pesos2[index2:]\n",
    "\n",
    "    aux1 = np.zeros(ngenes, dtype='float32')\n",
    "    aux2 = np.array([0.,0.,0.], dtype='float32')\n",
    "    pesos_hijo1 = [pesos_hijo1[0], aux1,pesos_hijo1[1],aux2] # Los pesos con mutación\n",
    "    pesos_hijo2 = [pesos_hijo2[0], aux1,pesos_hijo2[1],aux2]\n",
    "    \n",
    "    nuevoMLP1 = crearMLP(ngenes,4,1,pesos_hijo1) # ngenesMLP, tam_entrada,tipo,pesos\n",
    "    nuevoMLP2 = crearMLP(ngenes,4,1,pesos_hijo2) \n",
    "    \n",
    "    return nuevoMLP1, nuevoMLP2 \n",
    "    \n",
    "def crossover_selection(a,crossover_point,poblacion,entradas,salidas): # Funcion que prepara los datos para el crossover\n",
    "    truefalse = 0\n",
    "    for indiv2 in poblacion:\n",
    "        truefalse = seleccion(indiv2,poblacion,entradas,salidas)\n",
    "        if truefalse:\n",
    "            a,b = crossover(a,indiv2,crossover_point)\n",
    "            if seleccion(a,poblacion,entradas,salidas):\n",
    "                a = mutar(a) \n",
    "            if seleccion(b,poblacion,entradas,salidas):\n",
    "                b = mutar(b)\n",
    "            return a,b"
   ]
  },
  {
   "cell_type": "markdown",
   "metadata": {},
   "source": [
    "### Mutar\n",
    "\n",
    "Secuencialmente para todos los genes del padre decide si cada gen se copia fielmente en el hijo o se muta usando un Método de Montecarlo simple sobre el valor de Pm. Si muta, cámbialo por otro valor aleatorio en el rango (-1, 1). Prueba también otras opciones de mutación. "
   ]
  },
  {
   "cell_type": "code",
   "execution_count": 13,
   "metadata": {},
   "outputs": [],
   "source": [
    "def mutar(individuo):\n",
    "    pesos_antiguos = individuo.get_weights()\n",
    "    pesos_entrada_oculta = pesos_antiguos[0]\n",
    "    pesos_oculta_salida = pesos_antiguos[2]\n",
    "\n",
    "    for i in range(len(pesos_entrada_oculta)):\n",
    "        for j in range(len(pesos_entrada_oculta[i])):\n",
    "            nAl = random.uniform(0, 1)\n",
    "            if(nAl < pm):\n",
    "                pesos_entrada_oculta[i][j] = random.uniform(-1, 1)\n",
    "\n",
    "    for i in range(len(pesos_oculta_salida)):\n",
    "        for j in range(len(pesos_oculta_salida[i])):\n",
    "            nAl = random.uniform(0, 1)\n",
    "            if(nAl < pm):\n",
    "                pesos_oculta_salida[i][j] = random.uniform(-1, 1)\n",
    "    \n",
    "    aux1 = np.zeros(ngenes, dtype='float32')\n",
    "    aux2 = np.array([0.,0.,0.], dtype='float32')\n",
    "    pesos_nuevos = [pesos_entrada_oculta,aux1,pesos_oculta_salida,aux2] # Los pesos con mutación\n",
    "\n",
    "    nuevoMLP = crearMLP(ngenes,4,1,pesos_nuevos)\n",
    "\n",
    "    return nuevoMLP"
   ]
  },
  {
   "cell_type": "markdown",
   "metadata": {},
   "source": [
    "### Cromosoma consenso\n",
    "\n",
    "El cromosoma consenso es aquel individuo que tiene los genes más repetidos. De esta manera de cada generación podríamos saber un individuo medio, teniendo las cualidades más típicas de la generación. "
   ]
  },
  {
   "cell_type": "code",
   "execution_count": 14,
   "metadata": {},
   "outputs": [],
   "source": [
    "def cromosomaconsenso(poblacion, ngenes):\n",
    "    matriz1_cro = np.empty((4, ngenes))\n",
    "    matriz2_cro = np.empty((ngenes, 3))\n",
    "\n",
    "    for i in range(len(matriz1_cro)):\n",
    "        for j in range(len(matriz1_cro[i])):\n",
    "            lista_pos = []\n",
    "            for individuo in poblacion:\n",
    "                pesos_antiguos_individuo = individuo.get_weights()\n",
    "                pesos_ind = pesos_antiguos_individuo[0]\n",
    "                lista_pos.append(pesos_ind[i][j])\n",
    "            matriz1_cro[i][j] = mode(lista_pos)\n",
    "            print(lista_pos)\n",
    "            print(matriz1_cro[i][j])\n",
    "\n",
    "    for i in range(len(matriz2_cro)):\n",
    "        for j in range(len(matriz2_cro[i])):\n",
    "            lista_pos = []\n",
    "            for individuo in poblacion:\n",
    "                pesos_antiguos_individuo = individuo.get_weights()\n",
    "                pesos_ind = pesos_antiguos_individuo[2]\n",
    "                lista_pos.append(pesos_ind[i][j])\n",
    "            matriz2_cro[i][j] = mode(lista_pos)\n",
    "    \n",
    "    aux1 = np.zeros(ngenes, dtype='float32')\n",
    "    aux2 = np.array([0.,0.,0.], dtype='float32')\n",
    "    pesos_nuevos = [matriz1_cro,aux1,matriz2_cro,aux2] # Los pesos con mutación\n",
    "\n",
    "    cromosomaCom = crearMLP(ngenes,4,1,pesos_nuevos)\n",
    "\n",
    "    return cromosomaCom"
   ]
  },
  {
   "cell_type": "markdown",
   "metadata": {},
   "source": [
    "### Resumen\n",
    "\n",
    "Cada NRES generaciones escribir un resumen que contenga: \n",
    "\n",
    "    • Nº de generación \n",
    "\n",
    "    • El mejor cromosoma, su fitness (BESTf) y cuantos hay en número (BESTn) y en % (BEST%) \n",
    "    \n",
    "    • El cromosoma  consenso (aquel obtenido con el peso más frecuente en cada posición) y su fitness (CONSf) "
   ]
  },
  {
   "cell_type": "code",
   "execution_count": 15,
   "metadata": {},
   "outputs": [],
   "source": [
    "def resumen(poblacion, entradas, salidas, generacion):\n",
    "    pobFit = evaluarPoblacion(poblacion, entradas, salidas)\n",
    "    valMejInd = np.amax(pobFit)\n",
    "    nInd = collections.Counter(pobFit)[valMejInd]\n",
    "    cromosomaC = cromosomaconsenso(poblacion,ngenes)\n",
    "    print(\"======================= RESUMEN =======================\")\n",
    "    print(\"Nº generacion\", str(generacion+1))\n",
    "    print(\"Mejor individuo tiene: \", str(valMejInd))\n",
    "    print(\"Hay \", str(nInd), \"con el mejor fitness, lo cual es un \",str((nInd/npob)*100), \"%\")\n",
    "    print(\"El cromosoma consenso tiene de fitness \", evaluarIndividuo(cromosomaC,entradas,salidas))\n",
    "    print(\"=======================================================\")\n"
   ]
  },
  {
   "cell_type": "markdown",
   "metadata": {},
   "source": [
    "### Muestreo\n",
    "\n",
    "Cada NSAMPLE generaciones escribir \n",
    "\n",
    "    • El resumen NRES \n",
    "    \n",
    "    • Un muestreo del 20% de los individuos de la población "
   ]
  },
  {
   "cell_type": "code",
   "execution_count": 16,
   "metadata": {},
   "outputs": [],
   "source": [
    "def muestreo(poblacion, entradas, salidas):\n",
    "    contador = 0\n",
    "    pobFit = evaluarPoblacion(poblacion, entradas, salidas)\n",
    "    valMejInd = np.amax(pobFit)\n",
    "    nInd = collections.Counter(pobFit)[valMejInd]\n",
    "\n",
    "    nindmuestreo = int(npob * 0.2)  # 20%\n",
    "    muestreo = random.sample(poblacion, nindmuestreo)\n",
    "    print(\"======================= MUESTREO =======================\")\n",
    "    print(\"Muestro de \", str(nindmuestreo), \"individuos\")\n",
    "    for individuoMuestreo in muestreo:\n",
    "        contador += 1\n",
    "        print(\"Individuo \", str(contador), \"tiene fitness de\", str(\n",
    "                evaluarIndividuo(individuoMuestreo, entradas, salidas)))\n",
    "    print(\"==================================================================\")\n"
   ]
  },
  {
   "cell_type": "markdown",
   "metadata": {},
   "source": [
    "### Simulación"
   ]
  },
  {
   "cell_type": "markdown",
   "metadata": {},
   "source": [
    "Simulamos una población durante muchas generaciones. Pese a que la evaluación sea durante muchas generaciones existe una condición de parada basada en que si durante x número de generaciones el mejor fitness no cambia, se para el programa."
   ]
  },
  {
   "cell_type": "code",
   "execution_count": 17,
   "metadata": {},
   "outputs": [
    {
     "name": "stdout",
     "output_type": "stream",
     "text": [
      "======================= SIMULACIÓN INICIADA =======================\n",
      "Matriz pesos de tamaño: 4 * 8 y de 3 * 8\n",
      "NPOB:  20\n",
      "NGEN:  8\n",
      "Probabilidad mutacion  0.05\n",
      "==================================================================\n",
      "[0.32360548, 0.32360548, 0.32360548, 0.32360548, 0.32360548, 0.32360548, -0.17235518, -0.17235518, -0.17235518, -0.17235518, 0.32360548, -0.17235518, -0.17235518, -0.17235518, -0.17235518, -0.17235518, 0.63854647, -0.17235518, -0.17235518, 0.32360548]\n",
      "-0.17235517501831055\n",
      "[0.39480776, 0.39480776, 0.39480776, 0.39480776, 0.39480776, 0.39480776, 0.39480776, 0.18204618, 0.39480776, 0.18204618, 0.39480776, 0.18204618, 0.39480776, 0.39480776, 0.39480776, 0.39480776, 0.39480776, 0.39480776, 0.39480776, 0.39480776]\n",
      "0.39480775594711304\n",
      "[0.78998035, 0.78998035, 0.78998035, 0.78998035, 0.78998035, 0.78998035, 0.78998035, 0.78998035, 0.78998035, 0.78998035, 0.78998035, 0.78998035, 0.6552357, 0.6552357, 0.78998035, -0.032306626, 0.78998035, 0.78998035, 0.6552357, 0.78998035]\n",
      "0.7899803519248962\n",
      "[0.024792135, 0.024792135, 0.024792135, 0.024792135, 0.024792135, 0.024792135, 0.024792135, 0.024792135, 0.024792135, 0.024792135, 0.024792135, 0.024792135, 0.024792135, 0.024792135, 0.024792135, 0.024792135, 0.024792135, 0.024792135, 0.024792135, 0.024792135]\n",
      "0.024792134761810303\n",
      "[-0.46731648, -0.46731648, -0.46731648, -0.46731648, -0.46731648, -0.46731648, -0.46731648, -0.46731648, -0.46731648, -0.46731648, -0.46731648, -0.46731648, -0.46731648, -0.46731648, -0.46731648, -0.46731648, -0.46731648, -0.46731648, -0.46731648, -0.46731648]\n",
      "-0.46731647849082947\n",
      "[-0.57329804, -0.57329804, -0.57329804, -0.57329804, -0.57329804, -0.57329804, -0.57329804, -0.57329804, -0.95879745, -0.57329804, -0.57329804, -0.57329804, -0.57329804, -0.2993895, -0.95879745, -0.57329804, -0.57329804, -0.57329804, -0.57329804, -0.57329804]\n",
      "-0.5732980370521545\n",
      "[-0.736505, -0.736505, -0.736505, -0.736505, -0.736505, -0.736505, -0.736505, -0.736505, -0.736505, -0.736505, -0.736505, -0.736505, -0.736505, -0.736505, -0.736505, -0.736505, -0.736505, -0.736505, -0.736505, -0.736505]\n",
      "-0.7365049719810486\n",
      "[0.31521282, 0.31521282, 0.31521282, 0.31521282, 0.31521282, 0.31521282, 0.31521282, 0.31521282, 0.31521282, 0.31521282, 0.31521282, 0.31521282, 0.31521282, 0.18953189, 0.31521282, 0.31521282, 0.31521282, 0.31521282, 0.18953189, 0.31521282]\n",
      "0.31521281599998474\n",
      "[-0.20094252, -0.20094252, -0.20094252, -0.20094252, -0.20094252, -0.20094252, -0.20094252, -0.20094252, -0.20094252, -0.20094252, -0.20094252, -0.20094252, -0.20094252, -0.20094252, -0.20094252, -0.20094252, -0.20094252, -0.20094252, -0.20094252, -0.20094252]\n",
      "-0.2009425163269043\n",
      "[-0.35381538, -0.35381538, -0.35381538, -0.35381538, -0.35381538, -0.35381538, -0.35381538, -0.35381538, -0.35381538, -0.35381538, -0.35381538, -0.35381538, -0.35381538, -0.40061232, -0.35381538, -0.35381538, -0.35381538, -0.35381538, -0.35381538, -0.35381538]\n",
      "-0.35381537675857544\n",
      "[0.027574837, 0.027574837, 0.027574837, 0.027574837, 0.027574837, 0.027574837, 0.027574837, 0.027574837, 0.027574837, 0.027574837, 0.027574837, 0.027574837, 0.027574837, 0.027574837, 0.027574837, 0.027574837, 0.027574837, 0.027574837, 0.027574837, 0.027574837]\n",
      "0.02757483720779419\n",
      "[0.18985385, 0.18985385, 0.18985385, 0.18985385, 0.18985385, 0.18985385, 0.18985385, 0.18985385, 0.18985385, 0.18985385, 0.18985385, 0.18985385, 0.18985385, 0.18985385, 0.18985385, 0.18985385, 0.18985385, 0.18985385, 0.18985385, 0.18985385]\n",
      "0.18985384702682495\n",
      "[-0.17217934, -0.17217934, -0.17217934, -0.17217934, -0.17217934, -0.17217934, -0.17217934, -0.17217934, -0.17217934, -0.17217934, -0.17217934, -0.17217934, 0.68260765, 0.68260765, -0.17217934, -0.17217934, -0.17217934, 0.1558922, 0.68260765, -0.17217934]\n",
      "-0.17217934131622314\n",
      "[0.39555436, 0.39555436, 0.39555436, 0.39555436, 0.39555436, 0.39555436, 0.39555436, 0.39555436, 0.39555436, 0.39555436, 0.39555436, 0.39555436, 0.5836562, 0.5836562, 0.39555436, 0.39555436, 0.39555436, 0.39555436, 0.5836562, 0.39555436]\n",
      "0.3955543637275696\n",
      "[0.13953823, 0.13953823, 0.13953823, 0.13953823, 0.13953823, 0.13953823, 0.13953823, 0.13953823, 0.13953823, 0.13953823, -0.6900084, 0.13953823, 0.06306152, 0.06306152, 0.13953823, 0.13953823, 0.13953823, 0.13953823, 0.06306152, 0.13953823]\n",
      "0.1395382285118103\n",
      "[0.27657503, 0.27657503, 0.27657503, 0.27657503, 0.27657503, 0.77427125, 0.27657503, 0.27657503, 0.27657503, -0.5545104, 0.27657503, -0.5545104, 0.77178025, 0.77178025, 0.27657503, 0.27657503, -0.51564354, 0.27657503, 0.77178025, 0.27657503]\n",
      "0.2765750288963318\n",
      "[-0.43054473, -0.43054473, -0.43054473, -0.57252043, -0.43054473, -0.57252043, -0.57252043, 0.6181794, -0.57252043, 0.6181794, -0.57252043, 0.6181794, -0.57252043, -0.57252043, -0.57252043, -0.57252043, -0.57252043, -0.57252043, -0.57252043, -0.57252043]\n",
      "-0.5725204348564148\n",
      "[-0.24224272, -0.24224272, -0.24224272, -0.24224272, -0.24224272, -0.2656114, -0.24224272, -0.17932433, -0.24224272, -0.17932433, -0.24224272, -0.17932433, -0.24224272, -0.24224272, -0.24224272, -0.24224272, -0.24224272, -0.24224272, -0.24224272, -0.24224272]\n",
      "-0.2422427237033844\n",
      "[0.6310094, 0.6310094, 0.09222866, 0.6310094, 0.6310094, 0.6310094, 0.6310094, 0.6310094, 0.6310094, 0.6310094, 0.6310094, 0.6310094, 0.8799588, 0.8799588, 0.6310094, 0.6310094, 0.6310094, -0.5967364, 0.8799588, 0.6310094]\n",
      "0.6310093998908997\n",
      "[0.00054491486, 0.00054491486, 0.00054491486, 0.00054491486, 0.00054491486, 0.00054491486, 0.00054491486, 0.00054491486, 0.00054491486, 0.00054491486, 0.00054491486, 0.00054491486, 0.00054491486, 0.00054491486, 0.00054491486, 0.00054491486, 0.00054491486, 0.00054491486, 0.00054491486, 0.00054491486]\n",
      "0.0005449148593470454\n",
      "[0.8671014, 0.8671014, 0.8671014, 0.8671014, 0.8671014, 0.8671014, 0.8671014, 0.8671014, 0.8671014, 0.038124334, 0.8671014, 0.038124334, 0.8671014, 0.8671014, 0.8671014, 0.8671014, 0.8671014, 0.8671014, 0.8671014, 0.8671014]\n",
      "0.8671013712882996\n",
      "[-0.22376606, -0.22376606, -0.22376606, -0.22376606, -0.22376606, -0.22376606, -0.22376606, -0.22376606, -0.22376606, -0.22376606, -0.22376606, -0.22376606, -0.22376606, 0.67393047, -0.22376606, -0.22376606, -0.22376606, -0.22376606, 0.67393047, -0.22376606]\n",
      "-0.22376605868339539\n",
      "[-0.270313, -0.270313, -0.270313, -0.270313, -0.270313, 0.6601241, -0.270313, 0.6814874, -0.270313, 0.6814874, -0.270313, 0.6814874, -0.270313, -0.270313, -0.270313, 0.6814874, -0.270313, -0.270313, -0.270313, -0.270313]\n",
      "-0.27031299471855164\n",
      "[-0.6261833, -0.6261833, -0.6261833, -0.6261833, -0.6261833, -0.6261833, -0.6261833, -0.6261833, -0.6261833, -0.6261833, -0.6261833, -0.6261833, -0.6261833, -0.6261833, -0.6261833, -0.6261833, -0.6261833, -0.6261833, -0.6261833, -0.6261833]\n",
      "-0.626183271408081\n",
      "[-0.63203144, -0.63203144, -0.63203144, -0.63203144, -0.63203144, -0.63203144, -0.63203144, -0.63203144, -0.63203144, -0.63203144, -0.63203144, -0.63203144, -0.63203144, -0.5299334, -0.63203144, -0.63203144, -0.63203144, -0.63203144, -0.5299334, -0.63203144]\n",
      "-0.6320314407348633\n",
      "[0.2410565, 0.2410565, 0.2410565, 0.2410565, 0.2410565, 0.2410565, -0.039007068, -0.039007068, -0.039007068, -0.039007068, 0.2410565, -0.039007068, -0.039007068, -0.039007068, -0.039007068, -0.039007068, -0.039007068, -0.039007068, -0.039007068, 0.2410565]\n",
      "-0.03900706768035889\n",
      "[-0.490015, -0.490015, -0.5082683, -0.490015, -0.490015, -0.490015, -0.490015, -0.490015, -0.490015, -0.490015, -0.490015, -0.490015, -0.490015, -0.490015, -0.490015, -0.490015, -0.490015, -0.490015, -0.490015, -0.490015]\n",
      "-0.4900150001049042\n",
      "[-0.61546016, -0.61546016, -0.61546016, -0.61546016, -0.61546016, -0.61546016, -0.61546016, -0.61546016, -0.61546016, -0.61546016, -0.61546016, -0.61546016, -0.61546016, -0.62911147, -0.61546016, -0.61546016, -0.61546016, -0.61546016, -0.61546016, -0.61546016]\n",
      "-0.6154601573944092\n",
      "[0.95463693, 0.95463693, 0.95463693, 0.95463693, 0.95463693, 0.95463693, 0.11141503, 0.11141503, 0.11141503, 0.11141503, 0.31916177, 0.11141503, -0.8875381, -0.8875381, 0.11141503, 0.11141503, 0.11141503, 0.11141503, -0.8875381, 0.95463693]\n",
      "0.11141502857208252\n",
      "[0.31650323, 0.31650323, 0.31650323, 0.31650323, 0.31650323, 0.31650323, 0.31650323, 0.31650323, 0.31650323, 0.31650323, 0.31650323, 0.31650323, 0.31650323, 0.31650323, 0.31650323, 0.31650323, 0.31650323, 0.31650323, 0.31650323, 0.31650323]\n",
      "0.31650322675704956\n",
      "[-0.35245267, -0.35245267, -0.35245267, -0.35245267, -0.35245267, -0.35245267, -0.35245267, -0.35245267, -0.35245267, -0.35245267, -0.35245267, -0.35245267, -0.35245267, -0.35245267, -0.35245267, -0.35245267, -0.35245267, -0.35245267, -0.35245267, -0.35245267]\n",
      "-0.35245266556739807\n",
      "[0.033117115, 0.033117115, 0.033117115, 0.033117115, 0.033117115, 0.033117115, 0.033117115, 0.033117115, 0.033117115, 0.033117115, 0.033117115, 0.033117115, 0.033117115, 0.033117115, 0.033117115, 0.033117115, 0.033117115, 0.033117115, 0.033117115, 0.033117115]\n",
      "0.03311711549758911\n",
      "======================= RESUMEN =======================\n",
      "Nº generacion 10\n",
      "Mejor individuo tiene:  100.05000000000001\n",
      "Hay  1 con el mejor fitness, lo cual es un  5.0 %\n",
      "El cromosoma consenso tiene de fitness  79.95\n",
      "=======================================================\n"
     ]
    }
   ],
   "source": [
    "def simular():\n",
    "\n",
    "    print(\"======================= SIMULACIÓN INICIADA =======================\")\n",
    "    print(\"Matriz pesos de tamaño: 4 *\", str(ngenes) , \"y de 3 *\", str(ngenes))\n",
    "    print(\"NPOB: \", npob)\n",
    "    print(\"NGEN: \", ngenes)\n",
    "    print(\"Probabilidad mutacion \", pm)\n",
    "    print(\"==================================================================\")\n",
    "\n",
    "    ultimo = 0\n",
    "    contador = 0\n",
    "    actual = 0\n",
    "\n",
    "    poblacion = crearPoblacion(npob,ngenes, 4) # Población inicial\n",
    "\n",
    "    for i in range(ngeneraciones):\n",
    "        print(\"Generacion \", str(i+1), end=\"\\r\")\n",
    "        for individuo in poblacion: # Recorremos toda la población\n",
    "            seleccionado = seleccion(individuo,poblacion,entradas,salidas) # Vemos si le toca mutarse o no\n",
    "            if(seleccionado): # Lo mutamos y matamos alguien aleatorio\n",
    "\n",
    "                # DESDE AQUI ES CROSSOVER\n",
    "                ind1, ind2 = crossover_selection(individuo,0.8,poblacion,entradas,salidas)  \n",
    "                muerto = random.randint(0, npob-1) # Nos cargamos un random\n",
    "                poblacion[muerto] = ind1\n",
    "                muerto = random.randint(0, npob-1) # Nos cargamos un random\n",
    "                poblacion[muerto] = ind2\n",
    "                # AQUI TERMINA CROSSOVER\n",
    "                '''\n",
    "                # En caso de no querer usar crossover descomentar este apartado y comentar las 5 lineas anteriores\n",
    "                # Aqui empieza sin crossover\n",
    "                nuevoIndividuo = mutar(individuo) # Lo mutamos\n",
    "                muerto = random.randint(0, npob-1) # Nos cargamos un random\n",
    "                poblacion[muerto] = nuevoIndividuo\n",
    "                # Aqui termina sin crossover\n",
    "                '''\n",
    "\n",
    "        if((i+1) % nres  == 0): # imprime un resumen de la evolución del proceso \n",
    "            resumen(poblacion, entradas, salidas, i)\n",
    "                \n",
    "        if((i+1) % nsample  == 0): # muestreo de la población \n",
    "            muestreo(poblacion, entradas, salidas)\n",
    "        \n",
    "        # Condición de parada\n",
    "        \n",
    "        actual = np.amax(evaluarPoblacion(poblacion,entradas,salidas))\n",
    "        if(actual == ultimo):\n",
    "            contador += 1\n",
    "            if(contador == convgen):\n",
    "                print(\"PARADA, TRAS\", str(convgen), \"GENERACIONES NO HA HABIDO NINGÚN CAMBIO DEL MEJOR FITNESS \", str(actual))\n",
    "                return\n",
    "        else:\n",
    "            ultimo = actual\n",
    "            contador = 0\n",
    "\n",
    "simular()\n",
    "\n",
    "# No son los parametros optimos por eso la mala performance, tarda mucho en ejecutar y queria entregarlo todo ejecutado para que viera que funciona"
   ]
  }
 ],
 "metadata": {
  "interpreter": {
   "hash": "89f28dc4781dab19edf63b5c71a1687fff9fce01d0e8a3b589ee0bb3a5a37f0a"
  },
  "kernelspec": {
   "display_name": "Python 3.9.7 ('base')",
   "language": "python",
   "name": "python3"
  },
  "language_info": {
   "codemirror_mode": {
    "name": "ipython",
    "version": 3
   },
   "file_extension": ".py",
   "mimetype": "text/x-python",
   "name": "python",
   "nbconvert_exporter": "python",
   "pygments_lexer": "ipython3",
   "version": "3.9.7"
  },
  "orig_nbformat": 4
 },
 "nbformat": 4,
 "nbformat_minor": 2
}
