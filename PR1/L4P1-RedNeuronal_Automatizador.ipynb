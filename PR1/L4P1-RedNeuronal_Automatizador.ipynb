{
 "cells": [
  {
   "cell_type": "markdown",
   "metadata": {},
   "source": [
    "# Práctica 1\n",
    "\n",
    "Gonzalo Monedero - Marcos Molina - Nicolás Salgado - Iñigo Vázquez"
   ]
  },
  {
   "cell_type": "markdown",
   "metadata": {},
   "source": [
    "## Preparación del entorno"
   ]
  },
  {
   "cell_type": "code",
   "execution_count": 1,
   "metadata": {},
   "outputs": [],
   "source": [
    "import matplotlib.pyplot as plt\n",
    "import numpy as np\n",
    "import pandas as pd\n",
    "import keras as ker\n",
    "import tensorflow as tf\n",
    "import random\n",
    "import time\n",
    "import collections\n",
    "\n",
    "from sklearn.preprocessing import LabelEncoder\n",
    "from sklearn.preprocessing import MinMaxScaler\n",
    "\n",
    "# Quitar warnings feos\n",
    "tf.compat.v1.logging.set_verbosity(tf.compat.v1.logging.ERROR)"
   ]
  },
  {
   "cell_type": "markdown",
   "metadata": {},
   "source": [
    "## Preprocesamiento de datos"
   ]
  },
  {
   "cell_type": "markdown",
   "metadata": {},
   "source": [
    "### Creación del dataset\n"
   ]
  },
  {
   "cell_type": "code",
   "execution_count": 2,
   "metadata": {},
   "outputs": [],
   "source": [
    "#leemos los datos aqui\n",
    "iris_RAW = pd.read_csv('../Data/iris.data', sep=',')\n",
    "iris_OG = iris_RAW.copy()\n",
    "salidas = iris_RAW.pop(\"class\")"
   ]
  },
  {
   "cell_type": "markdown",
   "metadata": {},
   "source": [
    "## Creación entradas y salidas"
   ]
  },
  {
   "cell_type": "code",
   "execution_count": 3,
   "metadata": {},
   "outputs": [],
   "source": [
    "entradas = iris_RAW.to_numpy()\n",
    "mm = MinMaxScaler()\n",
    "entradas = mm.fit_transform(entradas)\n",
    "\n",
    "\"\"\"\n",
    "# Categorizamos salidas\n",
    "label_encoder = LabelEncoder()\n",
    "salidas = label_encoder.fit_transform(salidas)\n",
    "\"\"\"\n",
    "salidas = pd.get_dummies(salidas)"
   ]
  },
  {
   "cell_type": "markdown",
   "metadata": {},
   "source": [
    "# Funciones algoritmo genético"
   ]
  },
  {
   "cell_type": "markdown",
   "metadata": {},
   "source": [
    "### Variables a definir"
   ]
  },
  {
   "cell_type": "code",
   "execution_count": 4,
   "metadata": {},
   "outputs": [],
   "source": [
    "\"\"\"\n",
    "ngenes: nneuronas de cada individuo. Sacado a traves del L4P1-EstudioRed.ipynb\n",
    "NPOB: Número de individuos de la población \n",
    "NGEN: Número de generaciones (ciclo completo sobre todos los individuos) \n",
    "CONVGEN: Número de generaciones que si no hay cambio para.\n",
    "Pm: Probabilidad de mutación: Probabilidad de que un gen dado mute \n",
    "NRES: Cada cuántas generaciones se imprime un resumen de la evolución del proceso \n",
    "NSAMPLE: Cada qué número de generaciones se saca un muestreo de la población \n",
    "\"\"\"\n",
    "\n",
    "ngenes = 7 # NO TOCAR\n",
    "npob = 20 # NO TOCAR\n",
    "ngeneraciones = 200 # TOCAR\n",
    "convgen = 10 # TOCAR\n",
    "pm = 0.1 # TOCAR\n",
    "nres = 10 # TOCAR\n",
    "nsample = 30 # TOCAR"
   ]
  },
  {
   "cell_type": "markdown",
   "metadata": {},
   "source": [
    "### Crear inidividuo\n",
    "\n",
    "Como bien se dice en el enunciado, un individuo es un MLP sin entrenar, con tantos genes como hemos calculado. En nuestro caso son 7 genes, y el tamaño de entrada son 4. De esta manera creamos un MLP básico."
   ]
  },
  {
   "cell_type": "code",
   "execution_count": 5,
   "metadata": {},
   "outputs": [],
   "source": [
    "def crearMLP(ngenesMLP, tam_entrada,tipo,pesos):\n",
    "\n",
    "    MLP = ker.Sequential() # Creamos el modelo vacío\n",
    "\n",
    "    # Añadimos la primera capa (tecnicamente dos, la de entrada (con la variable input_dim) y la oculta)\n",
    "    MLP.add(ker.layers.Dense(ngenesMLP, input_dim = tam_entrada, activation='relu'))\n",
    "\n",
    "    # Añadimos la capa de salida\n",
    "    MLP.add(ker.layers.Dense(3,activation='sigmoid')) \n",
    "\n",
    "    # Por último tenemos que configurar el modelo antes de entrenarlo con lo dicho en el enunciado\n",
    "    # Optimizador: Adam\n",
    "    # Función error: Mean Squared Error\n",
    "    # Metricas = Binary accuracy porque nos da el número de precisión de la red\n",
    "    MLP.compile(optimizer='adam',loss='mean_squared_error',metrics=[\"accuracy\"])\n",
    "\n",
    "    if(tipo == 1): # Le metemos pesos ya predeterminados\n",
    "        MLP.set_weights(pesos)\n",
    "\n",
    "    return MLP"
   ]
  },
  {
   "cell_type": "markdown",
   "metadata": {},
   "source": [
    "### Crear población\n",
    "\n",
    "Al igual que antes hemos creado un individuo en este caso crearemos una población. Una población es un conjunto de individuos, en nuestro caso entonces realizaremos un array de población"
   ]
  },
  {
   "cell_type": "code",
   "execution_count": 6,
   "metadata": {},
   "outputs": [],
   "source": [
    "def crearPoblacion(tamPoblacion,ngenesMLP, tam_entrada):\n",
    "    poblacion = []\n",
    "    for i in range (tamPoblacion):\n",
    "        time.sleep(1)\n",
    "        individuo = crearMLP(ngenesMLP,tam_entrada,0,0)\n",
    "        poblacion.append(individuo)\n",
    "    return poblacion"
   ]
  },
  {
   "cell_type": "markdown",
   "metadata": {},
   "source": [
    "### Evaluar población\n",
    "\n",
    "El calculo del fitness de la población se realiza mediante el evaluate del MLP. De esta manera, simplemente tendremos que iterar toda la población y devolver un array con el fitness de cada individuo en la posición de la población."
   ]
  },
  {
   "cell_type": "code",
   "execution_count": 7,
   "metadata": {},
   "outputs": [],
   "source": [
    "def evaluarPoblacion(poblacion,entradas_test,esperadas_test):\n",
    "    evalPobl = []\n",
    "    for individuo in poblacion:\n",
    "        metricas_totales = round(individuo.evaluate(entradas_test, esperadas_test,verbose=0)[1],3)\n",
    "        evalPobl.append(metricas_totales*150)\n",
    "    return evalPobl"
   ]
  },
  {
   "cell_type": "markdown",
   "metadata": {},
   "source": [
    "### Evaluar individuo\n",
    "\n",
    "Adicionalmente por si es requerido, crearemos una evaluacion para un unico individuo"
   ]
  },
  {
   "cell_type": "code",
   "execution_count": 8,
   "metadata": {},
   "outputs": [],
   "source": [
    "def evaluarIndividuo(individuo,entradas_test,esperadas_test):\n",
    "    metricas_totales = round(individuo.evaluate(entradas_test, esperadas_test,verbose=0)[1],3)\n",
    "    evalInd = metricas_totales*150\n",
    "    return evalInd"
   ]
  },
  {
   "cell_type": "markdown",
   "metadata": {},
   "source": [
    "### Selección de replicar individuo\n",
    "\n",
    "Posteriormente necesitaremos un algoritmo de montecarlo, que nos permita elegir la probablididad de selección de el individuo. El método de montecarlo es generar un número aleatorio entre [0,1], si este número es menor que la probabilidad de selección, el individuo se replica, si no, no. En nuestro caso, recibimos una población y la recorremos, viendo cuales se cogen o no. De esta manera, devolvemos un de booleano donde indicamos si ese individuo se replica o no."
   ]
  },
  {
   "cell_type": "code",
   "execution_count": 9,
   "metadata": {},
   "outputs": [],
   "source": [
    "def seleccion(individuo,poblacion,entradas_test,esperadas_test):\n",
    "    fis_totales = evaluarPoblacion(poblacion,entradas_test,esperadas_test)\n",
    "    fi = evaluarIndividuo(individuo,entradas_test,esperadas_test)\n",
    "    nAleatorio = random.uniform(0, 1)\n",
    "    ps = fi / np.amax(fis_totales)\n",
    "    return nAleatorio < ps"
   ]
  },
  {
   "cell_type": "markdown",
   "metadata": {},
   "source": [
    "### Mutar\n",
    "\n",
    "Secuencialmente para todos los genes del padre decide si cada gen se copia fielmente en el hijo o se muta usando un Método de Montecarlo simple sobre el valor de Pm. Si muta, cámbialo por otro valor aleatorio en el rango (-1, 1). Prueba también otras opciones de mutación. "
   ]
  },
  {
   "cell_type": "code",
   "execution_count": 11,
   "metadata": {},
   "outputs": [],
   "source": [
    "def mutar(individuo):\n",
    "    pesos_antiguos = individuo.get_weights()\n",
    "    pesos_entrada_oculta = pesos_antiguos[0]\n",
    "    pesos_oculta_salida = pesos_antiguos[2]\n",
    "\n",
    "    for i in range(len(pesos_entrada_oculta)):\n",
    "        for j in range(len(pesos_entrada_oculta[i])):\n",
    "            nAl = random.uniform(0, 1)\n",
    "            if(nAl < pm):\n",
    "                pesos_entrada_oculta[i][j] = random.uniform(-1, 1)\n",
    "\n",
    "    for i in range(len(pesos_oculta_salida)):\n",
    "        for j in range(len(pesos_oculta_salida[i])):\n",
    "            nAl = random.uniform(0, 1)\n",
    "            if(nAl < pm):\n",
    "                pesos_oculta_salida[i][j] = random.uniform(-1, 1)\n",
    "    \n",
    "    aux1 = np.zeros(ngenes, dtype='float32')\n",
    "    aux2 = np.array([0.,0.,0.], dtype='float32')\n",
    "    pesos_nuevos = [pesos_entrada_oculta,aux1,pesos_oculta_salida,aux2] # Los pesos con mutación\n",
    "\n",
    "    nuevoMLP = crearMLP(ngenes,4,1,pesos_nuevos)\n",
    "\n",
    "    return nuevoMLP"
   ]
  },
  {
   "cell_type": "markdown",
   "metadata": {},
   "source": [
    "### Resumen"
   ]
  },
  {
   "cell_type": "code",
   "execution_count": 12,
   "metadata": {},
   "outputs": [],
   "source": [
    "def resumen(poblacion, entradas, salidas, generacion):\n",
    "    pobFit = evaluarPoblacion(poblacion, entradas, salidas)\n",
    "    valMejInd = np.amax(pobFit)\n",
    "    nInd = collections.Counter(pobFit)[valMejInd]\n",
    "    return valMejInd,str((nInd/npob)*100)\n"
   ]
  },
  {
   "cell_type": "markdown",
   "metadata": {},
   "source": [
    "### Simulación"
   ]
  },
  {
   "cell_type": "code",
   "execution_count": 14,
   "metadata": {},
   "outputs": [],
   "source": [
    "def simular():\n",
    "\n",
    "    fitantiguo = 0\n",
    "    fitnuevo = 0\n",
    "    \n",
    "    poblacion = crearPoblacion(npob,ngenes, 4) # Población inicial\n",
    "\n",
    "    ultimaGen = 0 # Numero de generacion necesaria para obtener el resultado optimo \n",
    "    ultimoFitness = 0 # Mejor fitness posible con esta configuracion de\n",
    "    ultimoPorcMejoresInd = 0 # Ultimo porcentaje de mejores individuos\n",
    "\n",
    "    fitnes_antiguo = 0\n",
    "    num_conv = 0 # numero de veces que el fitnes se ha repetido de\n",
    "    lim_conv = 5 # limite de veces que el fitnes se puede repetir para la condicion de terminacion                              TOCAR\n",
    "\n",
    "    for i in range(ngeneraciones):\n",
    "        mutaciones_cont = 0\n",
    "        #print(\"Generacion \", str(i+1), end=\"\\r\")\n",
    "        for individuo in poblacion: # Recorremos toda la población\n",
    "            seleccionado = seleccion(individuo,poblacion,entradas,salidas) # Vemos si le toca mutarse o no\n",
    "            if(seleccionado): # Lo mutamos y matamos alguien aleatorio\n",
    "                nuevoIndividuo = mutar(individuo) # Lo mutamos\n",
    "                muerto = random.randint(0, npob-1) # Nos cargamos un random\n",
    "                poblacion[muerto] = nuevoIndividuo\n",
    "                mutaciones_cont += 1\n",
    "\n",
    "        fitnes, porcentaje = resumen(poblacion, entradas, salidas, i)\n",
    "        print(f\"Generacion {str(i+1)} -> fitnes {fitnes}\")\n",
    "        ultimoFitness = fitnes\n",
    "        ultimoPorcMejoresInd = porcentaje\n",
    "        if(fitnes_antiguo == fitnes):\n",
    "            num_conv += 1\n",
    "        else:\n",
    "            num_conv = 0\n",
    "            fitnes_antiguo = fitnes \n",
    "\n",
    "        # Condicion de parada\n",
    "        \n",
    "        ultimaGen = i\n",
    "        if(num_conv == lim_conv):\n",
    "            return [ultimaGen,ultimoFitness, ultimoPorcMejoresInd]\n",
    "\n",
    "    return [ultimaGen, ultimoFitness, ultimoPorcMejoresInd]      "
   ]
  },
  {
   "cell_type": "markdown",
   "metadata": {},
   "source": [
    "## Comienza el automatizador\n",
    "</br>\n",
    "Primero inicializamos todas las variables necesarias"
   ]
  },
  {
   "cell_type": "code",
   "execution_count": 15,
   "metadata": {},
   "outputs": [],
   "source": [
    "ngeness = [i for i in range(0,11,2) if i != 0] # AUTOMATIZAR\n",
    "npobs = [i for i in range(0,51,10) if i != 0] # AUTOMATIZAR\n",
    "ngeneraciones = 200 # TOCAR\n",
    "convgen = 10 # TOCAR\n",
    "pms = [0.01,0.05,0.1,0.15,0.2,0.25,0.3] # AUTOMATIZAR\n",
    "nres = 10 # TOCAR\n",
    "nsample = 30 # TOCAR"
   ]
  },
  {
   "cell_type": "markdown",
   "metadata": {},
   "source": [
    "Y ahora realizamos los bucles anidados"
   ]
  },
  {
   "cell_type": "code",
   "execution_count": 16,
   "metadata": {},
   "outputs": [
    {
     "name": "stdout",
     "output_type": "stream",
     "text": [
      "=================================================================================\n",
      "Probando con el numero de genes = 2 y el numero de poblaciones = 10\n",
      "=================================================================================\n",
      "Generacion 1 -> fitnes 91.05\n",
      "Generacion 2 -> fitnes 97.95\n",
      "Generacion 3 -> fitnes 97.95\n",
      "Generacion 4 -> fitnes 97.95\n",
      "Generacion 5 -> fitnes 96.0\n",
      "Generacion 6 -> fitnes 96.0\n",
      "Generacion 7 -> fitnes 96.0\n",
      "Generacion 8 -> fitnes 51.00000000000001\n",
      "Generacion 9 -> fitnes 49.95\n",
      "Generacion 10 -> fitnes 49.95\n",
      "Generacion 11 -> fitnes 79.05\n",
      "Generacion 12 -> fitnes 49.95\n",
      "Generacion 13 -> fitnes 49.95\n",
      "Generacion 14 -> fitnes 63.0\n",
      "Generacion 15 -> fitnes 97.95\n",
      "Generacion 16 -> fitnes 67.05\n",
      "Generacion 17 -> fitnes 64.05\n",
      "Generacion 18 -> fitnes 49.95\n",
      "Generacion 19 -> fitnes 52.949999999999996\n",
      "Generacion 20 -> fitnes 51.00000000000001\n",
      "Generacion 21 -> fitnes 51.00000000000001\n",
      "Generacion 22 -> fitnes 63.0\n",
      "Generacion 23 -> fitnes 63.0\n",
      "Generacion 24 -> fitnes 94.95\n",
      "Generacion 25 -> fitnes 99.0\n",
      "Generacion 26 -> fitnes 99.0\n",
      "Generacion 27 -> fitnes 100.05000000000001\n",
      "Generacion 28 -> fitnes 100.95\n",
      "Generacion 29 -> fitnes 100.05000000000001\n",
      "Generacion 30 -> fitnes 100.05000000000001\n",
      "Generacion 31 -> fitnes 100.05000000000001\n",
      "Generacion 32 -> fitnes 99.0\n"
     ]
    }
   ],
   "source": [
    "salidaOG = [0,0,0] # guarda el numero de generaciones, el fitnes y el porcentaje individuos con ese fitnes del mejor algoritmo\n",
    "solucion = [] # guarda que valor de npob y pm corresponde con salidaOG\n",
    "for i in ngeness:\n",
    "    for j in npobs:\n",
    "        print(\"=================================================================================\")\n",
    "        print(f\"Probando con el numero de genes = {i} y el numero de poblaciones = {j}\")\n",
    "        print(\"=================================================================================\")\n",
    "        # Ahora vamos a realizar el algorimo genético con los valores dados y vemos que nos da para compararlo\n",
    "        ngnenes = i \n",
    "        npob = j\n",
    "        salidaN = simular() # guardamos los valores en la salida Nueva\n",
    "        if salidaOG[1] < salidaN[1]: # 1 -> fitnes del mejor individuo  \n",
    "            print(f\"El fitnes nuevo: {salidaN[1]} ha sustituido al antiguo: {salidaOG[1]}\")\n",
    "            salidaOG = salidaN\n",
    "            solucion = [i,j]\n",
    "        elif salidaOG[1] == salidaN[1]: # 0 -> Numero de generaciones\n",
    "            if salidaOG[0] > salidaN[0]: # si el fitnes es igual, pero la nueva salida lo ha conseguido con menos generaciones, esta sera la nueva mejor\n",
    "                print(f\"El fitnes nuevo: {salidaN[1]} ha sustituido al antiguo: {salidaOG[1]} por el numero de generaciones, Antiguo: {salidaN[0]} Nuevo: {salidaOG[0]}\")\n",
    "                salidaOG = salidaN\n",
    "                solucion = [i,j]\n",
    "        elif salidaOG[0] == salidaN[0] and salidaOG[1] == salidaN[1]: # si ambos valores son iguales, se busca aquel con mayor porcentaje de elementos con el mejor fitness\n",
    "            if salidaOG[2] < salidaN[2]: #2 -> % de individuos con mejor fitness\n",
    "                print(f\"El fitnes nuevo: {salidaN[1]} ha sustituido al antiguo: {salidaOG[1]} por el % de individuos con mejor fitnes, Antiguo: {salidaN[2]} Nuevo: {salidaOG[2]}\")\n",
    "                salidaOG = salidaN\n",
    "                solucion = [i,j]\n",
    "print(f\"La combinacion perfecta encontrada es de numero de poblacion = {solucion[0]} y probabilidad de mutacion = {solucion[1]}\")\n",
    "print(f\"Dando como resultado un fitnes de {salidaOG[1]}/150, con un numero de generaciones de {salidaOG[0]} y un porcentaje de individuos con ese fitnes de {salidaOG[2]}\")"
   ]
  },
  {
   "cell_type": "code",
   "execution_count": null,
   "metadata": {},
   "outputs": [],
   "source": [
    "print(\"Ahora buscamos la relacion entre esos valores y la probilidad de mutacion\")\n",
    "solucion = np.append(pm)\n",
    "for i in pms:\n",
    "    pm = i\n",
    "    ngenes = solucion[0]\n",
    "    npob = solucion[1]\n",
    "    print(\"=========================================================\")\n",
    "    print(f\"Probando con la probabilidad de mutacion = {i}\")\n",
    "    print(\"=========================================================\")\n",
    "    salidaN = simular() # guardamos los valores en la salida Nueva\n",
    "    if salidaOG[1] < salidaN[1]: # 1 -> fitnes del mejor individuo  \n",
    "            print(f\"El fitnes nuevo: {salidaN[1]} ha sustituido al antiguo: {salidaOG[1]}\")\n",
    "            salidaOG = salidaN\n",
    "            solucion = [solucion[0],solucion[1],i]\n",
    "    elif salidaOG[1] == salidaN[1]: # 0 -> Numero de generaciones\n",
    "        if salidaOG[0] > salidaN[0]: # si el fitnes es igual, pero la nueva salida lo ha conseguido con menos generaciones, esta sera la nueva mejor\n",
    "                print(f\"El fitnes nuevo: {salidaN[1]} ha sustituido al antiguo: {salidaOG[1]} por el numero de generaciones, Antiguo: {salidaN[0]} Nuevo: {salidaOG[0]}\")\n",
    "                salidaOG = salidaN\n",
    "                solucion = [solucion[0],solucion[1],i]\n",
    "    elif salidaOG[0] == salidaN[0] and salidaOG[1] == salidaN[1]: # si ambos valores son iguales, se busca aquel con mayor porcentaje de elementos con el mejor fitness\n",
    "        if salidaOG[2] < salidaN[2]: #2 -> % de individuos con mejor fitness\n",
    "                print(f\"El fitnes nuevo: {salidaN[1]} ha sustituido al antiguo: {salidaOG[1]} por el % de individuos con mejor fitnes, Antiguo: {salidaN[2]} Nuevo: {salidaOG[2]}\")\n",
    "                salidaOG = salidaN\n",
    "                solucion = [solucion[0],solucion[1],i]\n",
    "print(f\"Por lo tanto, la red ejecutada que mejor ha funcionado tiene:\\n Nº de genes = {solucion[0]}\\n Nº de poblaciones = {solucion[1]}\\n Probabilidad de mutacion = {solucion[2]}\")\n",
    "print(f\"Dando como resultado un fitnes de {salidaOG[1]}/150, con un numero de generaciones de {salidaOG[0]} y un porcentaje de individuos con ese fitnes de {salidaOG[2]}\")"
   ]
  }
 ],
 "metadata": {
  "interpreter": {
   "hash": "89f28dc4781dab19edf63b5c71a1687fff9fce01d0e8a3b589ee0bb3a5a37f0a"
  },
  "kernelspec": {
   "display_name": "Python 3.9.7 ('base')",
   "language": "python",
   "name": "python3"
  },
  "language_info": {
   "codemirror_mode": {
    "name": "ipython",
    "version": 3
   },
   "file_extension": ".py",
   "mimetype": "text/x-python",
   "name": "python",
   "nbconvert_exporter": "python",
   "pygments_lexer": "ipython3",
   "version": "3.9.7"
  },
  "orig_nbformat": 4
 },
 "nbformat": 4,
 "nbformat_minor": 2
}
