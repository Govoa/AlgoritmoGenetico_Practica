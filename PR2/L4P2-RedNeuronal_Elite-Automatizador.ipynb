{
 "cells": [
  {
   "cell_type": "markdown",
   "metadata": {},
   "source": [
    "# Práctica 2\n",
    "\n",
    "Gonzalo Monedero - Marcos Molina - Nicolás Salgado - Iñigo Vázquez"
   ]
  },
  {
   "cell_type": "markdown",
   "metadata": {},
   "source": [
    "## Preparación del entorno"
   ]
  },
  {
   "cell_type": "code",
   "execution_count": 33,
   "metadata": {},
   "outputs": [],
   "source": [
    "import matplotlib.pyplot as plt\n",
    "import numpy as np\n",
    "import pandas as pd\n",
    "import keras as ker\n",
    "import tensorflow as tf\n",
    "import random\n",
    "import time\n",
    "import collections\n",
    "import statistics\n",
    "\n",
    "from statistics import mode\n",
    "from sklearn.preprocessing import MinMaxScaler\n",
    "\n",
    "# Quitar warnings feos\n",
    "tf.compat.v1.logging.set_verbosity(tf.compat.v1.logging.ERROR)"
   ]
  },
  {
   "cell_type": "markdown",
   "metadata": {},
   "source": [
    "## Preprocesamiento de datos"
   ]
  },
  {
   "cell_type": "markdown",
   "metadata": {},
   "source": [
    "### Creación del dataset\n"
   ]
  },
  {
   "cell_type": "code",
   "execution_count": 34,
   "metadata": {},
   "outputs": [],
   "source": [
    "iris_RAW = pd.read_csv('../Data/iris.data', sep=',')\n",
    "iris_OG = iris_RAW.copy()\n",
    "salidas = iris_RAW.pop(\"class\")"
   ]
  },
  {
   "cell_type": "markdown",
   "metadata": {},
   "source": [
    "## Creación entradas y salidas"
   ]
  },
  {
   "cell_type": "code",
   "execution_count": 35,
   "metadata": {},
   "outputs": [],
   "source": [
    "entradas = iris_RAW.to_numpy()\n",
    "mm = MinMaxScaler()\n",
    "entradas = mm.fit_transform(entradas)\n",
    "\n",
    "salidas = pd.get_dummies(salidas)"
   ]
  },
  {
   "cell_type": "markdown",
   "metadata": {},
   "source": [
    "# Funciones algoritmo genético"
   ]
  },
  {
   "cell_type": "markdown",
   "metadata": {},
   "source": [
    "### Variables a definir"
   ]
  },
  {
   "cell_type": "code",
   "execution_count": 36,
   "metadata": {},
   "outputs": [],
   "source": [
    "\"\"\"\n",
    "ngenes: nneuronas de cada individuo. Sacado a traves del L4P1-EstudioRed.ipynb\n",
    "NPOB: Número de individuos de la población \n",
    "NGEN: Número de generaciones (ciclo completo sobre todos los individuos) \n",
    "CONVGEN: Número de generaciones que si no hay cambio para.\n",
    "Pm: Probabilidad de mutación: Probabilidad de que un gen dado mute \n",
    "NRES: Cada cuántas generaciones se imprime un resumen de la evolución del proceso \n",
    "NSAMPLE: Cada qué número de generaciones se saca un muestreo de la población \n",
    "\"\"\"\n",
    "\n",
    "ngenes = 4 # NO TOCAR\n",
    "npob = 20 # NO TOCAR\n",
    "ngeneraciones = 200 # TOCAR\n",
    "convgen = 10 # TOCAR\n",
    "pm = 0.1 # TOCAR\n",
    "nres = 10 # TOCAR\n",
    "nsample = 30 # TOCAR\n",
    "elitismo = 0.25 # TOCAR"
   ]
  },
  {
   "cell_type": "markdown",
   "metadata": {},
   "source": [
    "### Crear inidividuo\n",
    "\n",
    "Como bien se dice en el enunciado, un individuo es un MLP sin entrenar, con tantos genes como hemos calculado. En nuestro caso son 7 genes, y el tamaño de entrada son 4. De esta manera creamos un MLP básico."
   ]
  },
  {
   "cell_type": "code",
   "execution_count": 37,
   "metadata": {},
   "outputs": [],
   "source": [
    "def crearMLP(ngenesMLP, tam_entrada,tipo,pesos):\n",
    "\n",
    "    MLP = ker.Sequential() # Creamos el modelo vacío\n",
    "\n",
    "    # Añadimos la primera capa (tecnicamente dos, la de entrada (con la variable input_dim) y la oculta)\n",
    "    MLP.add(ker.layers.Dense(ngenesMLP, input_dim = tam_entrada, activation='relu'))\n",
    "\n",
    "    # Añadimos la capa de salida\n",
    "    MLP.add(ker.layers.Dense(3,activation='sigmoid')) \n",
    "\n",
    "    # Por último tenemos que configurar el modelo antes de entrenarlo con lo dicho en el enunciado\n",
    "    # Optimizador: Adam\n",
    "    # Función error: Mean Squared Error\n",
    "    # Metricas = Binary accuracy porque nos da el número de precisión de la red\n",
    "    MLP.compile(optimizer='adam',loss='mean_squared_error',metrics=[\"accuracy\"])\n",
    "\n",
    "    if(tipo == 1): # Le metemos pesos ya predeterminados\n",
    "        MLP.set_weights(pesos)\n",
    "\n",
    "    return MLP"
   ]
  },
  {
   "cell_type": "markdown",
   "metadata": {},
   "source": [
    "### Crear población\n",
    "\n",
    "Al igual que antes hemos creado un individuo en este caso crearemos una población. Una población es un conjunto de individuos, en nuestro caso entonces realizaremos un array de población"
   ]
  },
  {
   "cell_type": "code",
   "execution_count": 38,
   "metadata": {},
   "outputs": [],
   "source": [
    "def crearPoblacion(tamPoblacion,ngenesMLP, tam_entrada):\n",
    "    poblacion = []\n",
    "    for i in range (tamPoblacion):\n",
    "        time.sleep(1)\n",
    "        individuo = crearMLP(ngenesMLP,tam_entrada,0,0)\n",
    "        poblacion.append(individuo)\n",
    "    return poblacion"
   ]
  },
  {
   "cell_type": "markdown",
   "metadata": {},
   "source": [
    "### Evaluar población\n",
    "\n",
    "El calculo del fitness de la población se realiza mediante el evaluate del MLP. De esta manera, simplemente tendremos que iterar toda la población y devolver un array con el fitness de cada individuo en la posición de la población."
   ]
  },
  {
   "cell_type": "code",
   "execution_count": 39,
   "metadata": {},
   "outputs": [],
   "source": [
    "def evaluarPoblacion(poblacion,entradas_test,esperadas_test):\n",
    "    evalPobl = []\n",
    "    for individuo in poblacion:\n",
    "        metricas_totales = round(individuo.evaluate(entradas_test, esperadas_test,verbose=0)[1],3)\n",
    "        evalPobl.append(metricas_totales*150)\n",
    "    return evalPobl"
   ]
  },
  {
   "cell_type": "markdown",
   "metadata": {},
   "source": [
    "### Evaluar individuo\n",
    "\n",
    "Adicionalmente por si es requerido, crearemos una evaluacion para un unico individuo"
   ]
  },
  {
   "cell_type": "code",
   "execution_count": 40,
   "metadata": {},
   "outputs": [],
   "source": [
    "def evaluarIndividuo(individuo,entradas_test,esperadas_test):\n",
    "    metricas_totales = round(individuo.evaluate(entradas_test, esperadas_test,verbose=0)[1],3)\n",
    "    evalInd = metricas_totales*150\n",
    "    return evalInd"
   ]
  },
  {
   "cell_type": "markdown",
   "metadata": {},
   "source": [
    "### Selección de replicar individuo\n",
    "\n",
    "Posteriormente necesitaremos un algoritmo de montecarlo, que nos permita elegir la probablididad de selección de el individuo. El método de montecarlo es generar un número aleatorio entre [0,1], si este número es menor que la probabilidad de selección, el individuo se replica, si no, no. En nuestro caso, recibimos una población y la recorremos, viendo cuales se cogen o no. De esta manera, devolvemos un de booleano donde indicamos si ese individuo se replica o no."
   ]
  },
  {
   "cell_type": "code",
   "execution_count": 41,
   "metadata": {},
   "outputs": [],
   "source": [
    "def seleccionados(poblacion,entradas_test,esperadas_test):\n",
    "    fis_totales = evaluarPoblacion(poblacion,entradas_test,esperadas_test)\n",
    "    pob_fis = dict(zip(poblacion,fis_totales))\n",
    "\n",
    "    pob_fis_ordenado = {k: v for k, v in sorted(pob_fis.items(), key=lambda item: item[1], reverse=True)}\n",
    "    nElegidos = int(npob * elitismo) # X % pobabilidad dependiendo del valor elitismo\n",
    "    mejores = []\n",
    "    for individuo in pob_fis_ordenado:\n",
    "        mejores.append(individuo)\n",
    "        nElegidos -= 1\n",
    "        if(nElegidos == 0):\n",
    "            break\n",
    "    return mejores"
   ]
  },
  {
   "cell_type": "markdown",
   "metadata": {},
   "source": [
    "### Mutar\n",
    "\n",
    "Secuencialmente para todos los genes del padre decide si cada gen se copia fielmente en el hijo o se muta usando un Método de Montecarlo simple sobre el valor de Pm. Si muta, cámbialo por otro valor aleatorio en el rango (-1, 1). Prueba también otras opciones de mutación. "
   ]
  },
  {
   "cell_type": "code",
   "execution_count": 42,
   "metadata": {},
   "outputs": [],
   "source": [
    "def mutar(individuo):\n",
    "    pesos_antiguos = individuo.get_weights()\n",
    "    pesos_entrada_oculta = pesos_antiguos[0]\n",
    "    pesos_oculta_salida = pesos_antiguos[2]\n",
    "\n",
    "    for i in range(len(pesos_entrada_oculta)):\n",
    "        for j in range(len(pesos_entrada_oculta[i])):\n",
    "            nAl = random.uniform(0, 1)\n",
    "            if(nAl < pm):\n",
    "                pesos_entrada_oculta[i][j] = random.uniform(-1, 1)\n",
    "\n",
    "    for i in range(len(pesos_oculta_salida)):\n",
    "        for j in range(len(pesos_oculta_salida[i])):\n",
    "            nAl = random.uniform(0, 1)\n",
    "            if(nAl < pm):\n",
    "                pesos_oculta_salida[i][j] = random.uniform(-1, 1)\n",
    "    \n",
    "    aux1 = np.zeros(ngenes, dtype='float32')\n",
    "    aux2 = np.array([0.,0.,0.], dtype='float32')\n",
    "    pesos_nuevos = [pesos_entrada_oculta,aux1,pesos_oculta_salida,aux2] # Los pesos con mutación\n",
    "\n",
    "    nuevoMLP = crearMLP(ngenes,4,1,pesos_nuevos)\n",
    "\n",
    "    return nuevoMLP"
   ]
  },
  {
   "cell_type": "markdown",
   "metadata": {},
   "source": [
    "### Cromosoma consenso\n",
    "\n",
    "El cromosoma consenso es aquel individuo que tiene los genes más repetidos. De esta manera de cada generación podríamos saber un individuo medio, teniendo las cualidades más típicas de la generación"
   ]
  },
  {
   "cell_type": "code",
   "execution_count": 43,
   "metadata": {},
   "outputs": [],
   "source": [
    "def cromosomaconsenso(poblacion, ngenes):\n",
    "    matriz1_cro = np.empty((4, ngenes))\n",
    "    matriz2_cro = np.empty((ngenes, 3))\n",
    "\n",
    "    for i in range(len(matriz1_cro)):\n",
    "        for j in range(len(matriz1_cro[i])):\n",
    "            lista_pos = []\n",
    "            for individuo in poblacion:\n",
    "                pesos_antiguos_individuo = individuo.get_weights()\n",
    "                pesos_ind = pesos_antiguos_individuo[0]\n",
    "                lista_pos.append(pesos_ind[i][j])\n",
    "            matriz1_cro[i][j] = mode(lista_pos)\n",
    "            print(lista_pos)\n",
    "            print(matriz1_cro[i][j])\n",
    "\n",
    "    for i in range(len(matriz2_cro)):\n",
    "        for j in range(len(matriz2_cro[i])):\n",
    "            lista_pos = []\n",
    "            for individuo in poblacion:\n",
    "                pesos_antiguos_individuo = individuo.get_weights()\n",
    "                pesos_ind = pesos_antiguos_individuo[2]\n",
    "                lista_pos.append(pesos_ind[i][j])\n",
    "            matriz2_cro[i][j] = mode(lista_pos)\n",
    "    \n",
    "    aux1 = np.zeros(ngenes, dtype='float32')\n",
    "    aux2 = np.array([0.,0.,0.], dtype='float32')\n",
    "    pesos_nuevos = [matriz1_cro,aux1,matriz2_cro,aux2] # Los pesos con mutación\n",
    "\n",
    "    cromosomaCom = crearMLP(ngenes,4,1,pesos_nuevos)\n",
    "\n",
    "    return cromosomaCom"
   ]
  },
  {
   "cell_type": "markdown",
   "metadata": {},
   "source": [
    "### Resumen"
   ]
  },
  {
   "cell_type": "code",
   "execution_count": 44,
   "metadata": {},
   "outputs": [],
   "source": [
    "def resumen(poblacion,entradas,salidas,generacion):\n",
    "    pobFit = evaluarPoblacion(poblacion,entradas,salidas)\n",
    "    valMejInd = np.amax(pobFit)\n",
    "    nInd = collections.Counter(pobFit)[valMejInd]   \n",
    "    return valMejInd,str((nInd/npob)*100)"
   ]
  },
  {
   "cell_type": "markdown",
   "metadata": {},
   "source": [
    "### Simulación"
   ]
  },
  {
   "cell_type": "code",
   "execution_count": 45,
   "metadata": {},
   "outputs": [],
   "source": [
    "def simular():\n",
    "\n",
    "    fitantiguo = 0\n",
    "    fitnuevo = 0\n",
    "    \n",
    "    poblacion = crearPoblacion(npob,ngenes, 4) # Población inicial\n",
    "\n",
    "    ultimaGen = 0 # Numero de generacion necesaria para obtener el resultado optimo \n",
    "    ultimoFitness = 0 # Mejor fitness posible con esta configuracion de\n",
    "    ultimoPorcMejoresInd = 0 # Ultimo porcentaje de mejores individuos\n",
    "\n",
    "    fitnes_antiguo = 0\n",
    "    num_conv = 0 # numero de veces que el fitnes se ha repetido de\n",
    "    lim_conv = 5 # limite de veces que el fitnes se puede repetir para la condicion de terminacion                              TOCAR\n",
    "\n",
    "    for i in range(ngeneraciones):\n",
    "        nueva_poblacion = []\n",
    "        \n",
    "        fitnes = 0\n",
    "        porcentaje = 0\n",
    "\n",
    "        mejoresIndividuos = seleccionados(poblacion,entradas,salidas)\n",
    "\n",
    "        for indvidio_mutar in mejoresIndividuos:\n",
    "            for x in range(int(1/elitismo)):\n",
    "                nuevoIndividuo = mutar(indvidio_mutar) # Lo mutamos\n",
    "                nueva_poblacion.append(nuevoIndividuo)\n",
    "        \n",
    "        fitnes, porcentaje = resumen(nueva_poblacion,entradas,salidas,i) # esto se hace siempre, en cada una de las generaciones\n",
    "        print(f\"Generacion {str(i+1)} -> fitnes {fitnes}\")\n",
    "        ultimoFitness = fitnes\n",
    "        ultimoPorcMejoresInd = porcentaje\n",
    "        if(fitnes_antiguo == fitnes):\n",
    "            num_conv += 1\n",
    "        else:\n",
    "            num_conv = 0\n",
    "            fitnes_antiguo = fitnes\n",
    "\n",
    "        poblacion = nueva_poblacion.copy()\n",
    "\n",
    "        # Condicion de parada\n",
    "        \n",
    "        ultimaGen = i\n",
    "        if(num_conv == lim_conv):\n",
    "            return [ultimaGen,ultimoFitness, ultimoPorcMejoresInd]\n",
    "        \n",
    "    return [ultimaGen, ultimoFitness, ultimoPorcMejoresInd]"
   ]
  },
  {
   "cell_type": "markdown",
   "metadata": {},
   "source": [
    "## Comienza el automatizador\n",
    "</br>Primero inicializamos las variables y creamos las listas con los valores que queremos probar"
   ]
  },
  {
   "cell_type": "code",
   "execution_count": 46,
   "metadata": {},
   "outputs": [],
   "source": [
    "ngeness = [i for i in range(0,11,2) if i != 0] # AUTOMATIZAR\n",
    "npobs = [i for i in range(0,51,10) if i != 0] # AUTOMATIZAR\n",
    "ngeneraciones = 200 # TOCAR\n",
    "convgen = 10 # TOCAR\n",
    "pms = [0.01,0.05,0.1,0.15,0.2,0.25,0.3] # AUTOMATIZAR\n",
    "nres = 10 # TOCAR\n",
    "nsample = 30 # TOCAR\n",
    "elitismos = [5,10,20,25,50] # TOCAR"
   ]
  },
  {
   "cell_type": "markdown",
   "metadata": {},
   "source": [
    "Y ahora realizamos los bucles anidados:"
   ]
  },
  {
   "cell_type": "code",
   "execution_count": 47,
   "metadata": {},
   "outputs": [
    {
     "name": "stdout",
     "output_type": "stream",
     "text": [
      "=================================================================================\n",
      "Probando con el numero de genes = 2 y el numero de poblaciones = 10\n",
      "=================================================================================\n",
      "Generacion 1 -> fitnes 88.05\n",
      "Generacion 2 -> fitnes 106.05\n",
      "Generacion 3 -> fitnes 106.05\n",
      "Generacion 4 -> fitnes 100.05000000000001\n",
      "Generacion 5 -> fitnes 100.05000000000001\n",
      "Generacion 6 -> fitnes 100.05000000000001\n",
      "Generacion 7 -> fitnes 100.05000000000001\n",
      "Generacion 8 -> fitnes 100.05000000000001\n",
      "Generacion 9 -> fitnes 100.05000000000001\n",
      "El fitnes nuevo: 100.05000000000001 ha sustituido al antiguo: 0\n",
      "=================================================================================\n",
      "Probando con el numero de genes = 2 y el numero de poblaciones = 20\n",
      "=================================================================================\n"
     ]
    },
    {
     "ename": "KeyboardInterrupt",
     "evalue": "",
     "output_type": "error",
     "traceback": [
      "\u001b[1;31m---------------------------------------------------------------------------\u001b[0m",
      "\u001b[1;31mKeyboardInterrupt\u001b[0m                         Traceback (most recent call last)",
      "\u001b[1;32m~\\AppData\\Local\\Temp/ipykernel_464/4047270955.py\u001b[0m in \u001b[0;36m<module>\u001b[1;34m\u001b[0m\n\u001b[0;32m      9\u001b[0m         \u001b[0mngnenes\u001b[0m \u001b[1;33m=\u001b[0m \u001b[0mi\u001b[0m\u001b[1;33m\u001b[0m\u001b[1;33m\u001b[0m\u001b[0m\n\u001b[0;32m     10\u001b[0m         \u001b[0mnpob\u001b[0m \u001b[1;33m=\u001b[0m \u001b[0mj\u001b[0m\u001b[1;33m\u001b[0m\u001b[1;33m\u001b[0m\u001b[0m\n\u001b[1;32m---> 11\u001b[1;33m         \u001b[0msalidaN\u001b[0m \u001b[1;33m=\u001b[0m \u001b[0msimular\u001b[0m\u001b[1;33m(\u001b[0m\u001b[1;33m)\u001b[0m \u001b[1;31m# guardamos los valores en la salida Nueva\u001b[0m\u001b[1;33m\u001b[0m\u001b[1;33m\u001b[0m\u001b[0m\n\u001b[0m\u001b[0;32m     12\u001b[0m         \u001b[1;32mif\u001b[0m \u001b[0msalidaOG\u001b[0m\u001b[1;33m[\u001b[0m\u001b[1;36m1\u001b[0m\u001b[1;33m]\u001b[0m \u001b[1;33m<\u001b[0m \u001b[0msalidaN\u001b[0m\u001b[1;33m[\u001b[0m\u001b[1;36m1\u001b[0m\u001b[1;33m]\u001b[0m\u001b[1;33m:\u001b[0m \u001b[1;31m# 1 -> fitnes del mejor individuo\u001b[0m\u001b[1;33m\u001b[0m\u001b[1;33m\u001b[0m\u001b[0m\n\u001b[0;32m     13\u001b[0m             \u001b[0mprint\u001b[0m\u001b[1;33m(\u001b[0m\u001b[1;34mf\"El fitnes nuevo: {salidaN[1]} ha sustituido al antiguo: {salidaOG[1]}\"\u001b[0m\u001b[1;33m)\u001b[0m\u001b[1;33m\u001b[0m\u001b[1;33m\u001b[0m\u001b[0m\n",
      "\u001b[1;32m~\\AppData\\Local\\Temp/ipykernel_464/4164295336.py\u001b[0m in \u001b[0;36msimular\u001b[1;34m()\u001b[0m\n\u001b[0;32m      4\u001b[0m     \u001b[0mfitnuevo\u001b[0m \u001b[1;33m=\u001b[0m \u001b[1;36m0\u001b[0m\u001b[1;33m\u001b[0m\u001b[1;33m\u001b[0m\u001b[0m\n\u001b[0;32m      5\u001b[0m \u001b[1;33m\u001b[0m\u001b[0m\n\u001b[1;32m----> 6\u001b[1;33m     \u001b[0mpoblacion\u001b[0m \u001b[1;33m=\u001b[0m \u001b[0mcrearPoblacion\u001b[0m\u001b[1;33m(\u001b[0m\u001b[0mnpob\u001b[0m\u001b[1;33m,\u001b[0m\u001b[0mngenes\u001b[0m\u001b[1;33m,\u001b[0m \u001b[1;36m4\u001b[0m\u001b[1;33m)\u001b[0m \u001b[1;31m# Población inicial\u001b[0m\u001b[1;33m\u001b[0m\u001b[1;33m\u001b[0m\u001b[0m\n\u001b[0m\u001b[0;32m      7\u001b[0m \u001b[1;33m\u001b[0m\u001b[0m\n\u001b[0;32m      8\u001b[0m     \u001b[0multimaGen\u001b[0m \u001b[1;33m=\u001b[0m \u001b[1;36m0\u001b[0m \u001b[1;31m# Numero de generacion necesaria para obtener el resultado optimo\u001b[0m\u001b[1;33m\u001b[0m\u001b[1;33m\u001b[0m\u001b[0m\n",
      "\u001b[1;32m~\\AppData\\Local\\Temp/ipykernel_464/3110442596.py\u001b[0m in \u001b[0;36mcrearPoblacion\u001b[1;34m(tamPoblacion, ngenesMLP, tam_entrada)\u001b[0m\n\u001b[0;32m      2\u001b[0m     \u001b[0mpoblacion\u001b[0m \u001b[1;33m=\u001b[0m \u001b[1;33m[\u001b[0m\u001b[1;33m]\u001b[0m\u001b[1;33m\u001b[0m\u001b[1;33m\u001b[0m\u001b[0m\n\u001b[0;32m      3\u001b[0m     \u001b[1;32mfor\u001b[0m \u001b[0mi\u001b[0m \u001b[1;32min\u001b[0m \u001b[0mrange\u001b[0m \u001b[1;33m(\u001b[0m\u001b[0mtamPoblacion\u001b[0m\u001b[1;33m)\u001b[0m\u001b[1;33m:\u001b[0m\u001b[1;33m\u001b[0m\u001b[1;33m\u001b[0m\u001b[0m\n\u001b[1;32m----> 4\u001b[1;33m         \u001b[0mtime\u001b[0m\u001b[1;33m.\u001b[0m\u001b[0msleep\u001b[0m\u001b[1;33m(\u001b[0m\u001b[1;36m1\u001b[0m\u001b[1;33m)\u001b[0m\u001b[1;33m\u001b[0m\u001b[1;33m\u001b[0m\u001b[0m\n\u001b[0m\u001b[0;32m      5\u001b[0m         \u001b[0mindividuo\u001b[0m \u001b[1;33m=\u001b[0m \u001b[0mcrearMLP\u001b[0m\u001b[1;33m(\u001b[0m\u001b[0mngenesMLP\u001b[0m\u001b[1;33m,\u001b[0m\u001b[0mtam_entrada\u001b[0m\u001b[1;33m,\u001b[0m\u001b[1;36m0\u001b[0m\u001b[1;33m,\u001b[0m\u001b[1;36m0\u001b[0m\u001b[1;33m)\u001b[0m\u001b[1;33m\u001b[0m\u001b[1;33m\u001b[0m\u001b[0m\n\u001b[0;32m      6\u001b[0m         \u001b[0mpoblacion\u001b[0m\u001b[1;33m.\u001b[0m\u001b[0mappend\u001b[0m\u001b[1;33m(\u001b[0m\u001b[0mindividuo\u001b[0m\u001b[1;33m)\u001b[0m\u001b[1;33m\u001b[0m\u001b[1;33m\u001b[0m\u001b[0m\n",
      "\u001b[1;31mKeyboardInterrupt\u001b[0m: "
     ]
    }
   ],
   "source": [
    "salidaOG = [0,0,0] # guarda el numero de generaciones, el fitnes y el porcentaje individuos con ese fitnes del mejor algoritmo\n",
    "solucion = [] # guarda que valor de npob y pm corresponde con salidaOG\n",
    "for i in ngeness:\n",
    "    for j in npobs:\n",
    "        print(\"=================================================================================\")\n",
    "        print(f\"Probando con el numero de genes = {i} y el numero de poblaciones = {j}\")\n",
    "        print(\"=================================================================================\")\n",
    "        # Ahora vamos a realizar el algorimo genético con los valores dados y vemos que nos da para compararlo\n",
    "        ngnenes = i \n",
    "        npob = j\n",
    "        salidaN = simular() # guardamos los valores en la salida Nueva\n",
    "        if salidaOG[1] < salidaN[1]: # 1 -> fitnes del mejor individuo  \n",
    "            print(f\"El fitnes nuevo: {salidaN[1]} ha sustituido al antiguo: {salidaOG[1]}\")\n",
    "            salidaOG = salidaN\n",
    "            solucion = [i,j]\n",
    "        elif salidaOG[1] == salidaN[1]: # 0 -> Numero de generaciones\n",
    "            if salidaOG[0] > salidaN[0]: # si el fitnes es igual, pero la nueva salida lo ha conseguido con menos generaciones, esta sera la nueva mejor\n",
    "                print(f\"El fitnes nuevo: {salidaN[1]} ha sustituido al antiguo: {salidaOG[1]} por el numero de generaciones, Antiguo: {salidaN[0]} Nuevo: {salidaOG[0]}\")\n",
    "                salidaOG = salidaN\n",
    "                solucion = [i,j]\n",
    "        elif salidaOG[0] == salidaN[0] and salidaOG[1] == salidaN[1]: # si ambos valores son iguales, se busca aquel con mayor porcentaje de elementos con el mejor fitness\n",
    "            if salidaOG[2] < salidaN[2]: #2 -> % de individuos con mejor fitness\n",
    "                print(f\"El fitnes nuevo: {salidaN[1]} ha sustituido al antiguo: {salidaOG[1]} por el % de individuos con mejor fitnes, Antiguo: {salidaN[2]} Nuevo: {salidaOG[2]}\")\n",
    "                salidaOG = salidaN\n",
    "                solucion = [i,j]\n",
    "print(f\"La combinacion perfecta encontrada es de numero de genes = {solucion[0]} y el numero de poblaciones = {solucion[1]}\")\n",
    "print(f\"Dando como resultado un fitnes de {salidaOG[1]}/150, con un numero de generaciones de {salidaOG[0]} y un porcentaje de individuos con ese fitnes de {salidaOG[2]}\")"
   ]
  },
  {
   "cell_type": "code",
   "execution_count": null,
   "metadata": {},
   "outputs": [
    {
     "ename": "IndentationError",
     "evalue": "unexpected indent (Temp/ipykernel_22380/1528632517.py, line 11)",
     "output_type": "error",
     "traceback": [
      "\u001b[1;36m  File \u001b[1;32m\"C:\\Users\\inigo\\AppData\\Local\\Temp/ipykernel_22380/1528632517.py\"\u001b[1;36m, line \u001b[1;32m11\u001b[0m\n\u001b[1;33m    if salidaOG[1] < salidaN[1]: # 1 -> fitnes del mejor individuo\u001b[0m\n\u001b[1;37m    ^\u001b[0m\n\u001b[1;31mIndentationError\u001b[0m\u001b[1;31m:\u001b[0m unexpected indent\n"
     ]
    }
   ],
   "source": [
    "print(\"Ahora buscamos la relacion entre esos valores y la probilidad de mutacion\")\n",
    "solucion.append(pm)\n",
    "for i in pms:\n",
    "    pm = i\n",
    "    ngenes = 6 #solucion[0]\n",
    "    npob = 50 # solucion[1]\n",
    "    print(\"=========================================================\")\n",
    "    print(f\"Probando con la probabilidad de mutacion = {i}\")\n",
    "    print(\"=========================================================\")\n",
    "    salidaN = simular() # guardamos los valores en la salida Nueva\n",
    "    if salidaOG[1] < salidaN[1]: # 1 -> fitnes del mejor individuo  \n",
    "        print(f\"El fitnes nuevo: {salidaN[1]} ha sustituido al antiguo: {salidaOG[1]}\")\n",
    "        salidaOG = salidaN\n",
    "        solucion = [solucion[0],solucion[1],i]\n",
    "    elif salidaOG[1] == salidaN[1]: # 0 -> Numero de generaciones\n",
    "        if salidaOG[0] > salidaN[0]: # si el fitnes es igual, pero la nueva salida lo ha conseguido con menos generaciones, esta sera la nueva mejor\n",
    "            print(f\"El fitnes nuevo: {salidaN[1]} ha sustituido al antiguo: {salidaOG[1]} por el numero de generaciones, Antiguo: {salidaN[0]} Nuevo: {salidaOG[0]}\")\n",
    "            salidaOG = salidaN\n",
    "            solucion = [solucion[0],solucion[1],i]\n",
    "    elif salidaOG[0] == salidaN[0] and salidaOG[1] == salidaN[1]: # si ambos valores son iguales, se busca aquel con mayor porcentaje de elementos con el mejor fitness\n",
    "        if salidaOG[2] < salidaN[2]: #2 -> % de individuos con mejor fitness\n",
    "            print(f\"El fitnes nuevo: {salidaN[1]} ha sustituido al antiguo: {salidaOG[1]} por el % de individuos con mejor fitnes, Antiguo: {salidaN[2]} Nuevo: {salidaOG[2]}\")\n",
    "            salidaOG = salidaN\n",
    "            solucion = [solucion[0],solucion[1],i]\n",
    "print(f\"Por lo tanto, la red ejecutada que mejor ha funcionado tiene:\\n Nº de genes = {solucion[0]}\\n Nº de poblaciones = {solucion[1]}\\n Probabilidad de mutacion = {solucion[2]}\")\n",
    "print(f\"Dando como resultado un fitnes de {salidaOG[1]}/150, con un numero de generaciones de {salidaOG[0]} y un porcentaje de individuos con ese fitnes de {salidaOG[2]}\")"
   ]
  },
  {
   "cell_type": "code",
   "execution_count": null,
   "metadata": {},
   "outputs": [],
   "source": [
    "print(f\"Y ahora, vemos el porcentaje de elitismo perfecto para estos valores\")\n",
    "solucion.append(elitismo)\n",
    "for i in elitismos:\n",
    "    elitismo = i \n",
    "    pm = solucion[2]\n",
    "    ngenes = solucion[0]\n",
    "    npob = solucion[1]\n",
    "    print(\"=========================================================\")\n",
    "    print(f\"Probando con el elitismo = {i}\")\n",
    "    print(\"=========================================================\")\n",
    "    salidaN = simular() # guardamos los valores en la salida Nueva\n",
    "    if salidaOG[1] < salidaN[1]: # 1 -> fitnes del mejor individuo  \n",
    "        print(f\"El fitnes nuevo: {salidaN[1]} ha sustituido al antiguo: {salidaOG[1]}\")\n",
    "        salidaOG = salidaN\n",
    "        solucion = [solucion[0],solucion[1],solucion[2],i]\n",
    "    elif salidaOG[1] == salidaN[1]: # 0 -> Numero de generaciones\n",
    "        if salidaOG[0] > salidaN[0]: # si el fitnes es igual, pero la nueva salida lo ha conseguido con menos generaciones, esta sera la nueva mejor\n",
    "            print(f\"El fitnes nuevo: {salidaN[1]} ha sustituido al antiguo: {salidaOG[1]} por el numero de generaciones, Antiguo: {salidaN[0]} Nuevo: {salidaOG[0]}\")\n",
    "            salidaOG = salidaN\n",
    "            solucion = [solucion[0],solucion[1],solucion[2],i]\n",
    "    elif salidaOG[0] == salidaN[0] and salidaOG[1] == salidaN[1]: # si ambos valores son iguales, se busca aquel con mayor porcentaje de elementos con el mejor fitness\n",
    "        if salidaOG[2] < salidaN[2]: #2 -> % de individuos con mejor fitness\n",
    "            print(f\"El fitnes nuevo: {salidaN[1]} ha sustituido al antiguo: {salidaOG[1]} por el % de individuos con mejor fitnes, Antiguo: {salidaN[2]} Nuevo: {salidaOG[2]}\")\n",
    "            salidaOG = salidaN\n",
    "            solucion = [solucion[0],solucion[1],solucion[2],i]\n",
    "print(f\"Por lo tanto, la red ejecutada que mejor ha funcionado tiene:\\n Nº de genes = {solucion[0]}\\n Nº de poblaciones = {solucion[1]}\\n Probabilidad de mutacion = {solucion[2]}\\n Elitismo = {solucion[3]}\")\n",
    "print(f\"Dando como resultado un fitnes de {salidaOG[1]}/150, con un numero de generaciones de {salidaOG[0]} y un porcentaje de individuos con ese fitnes de {salidaOG[2]}\")"
   ]
  }
 ],
 "metadata": {
  "interpreter": {
   "hash": "89f28dc4781dab19edf63b5c71a1687fff9fce01d0e8a3b589ee0bb3a5a37f0a"
  },
  "kernelspec": {
   "display_name": "Python 3.9.7 ('base')",
   "language": "python",
   "name": "python3"
  },
  "language_info": {
   "codemirror_mode": {
    "name": "ipython",
    "version": 3
   },
   "file_extension": ".py",
   "mimetype": "text/x-python",
   "name": "python",
   "nbconvert_exporter": "python",
   "pygments_lexer": "ipython3",
   "version": "3.9.7"
  },
  "orig_nbformat": 4
 },
 "nbformat": 4,
 "nbformat_minor": 2
}
